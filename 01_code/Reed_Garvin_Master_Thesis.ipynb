{
  "cells": [
    {
      "cell_type": "code",
      "execution_count": 1,
      "id": "y85ICnETBGpE",
      "metadata": {
        "id": "y85ICnETBGpE"
      },
      "outputs": [],
      "source": [
        "import zipfile\n",
        "import os"
      ]
    },
    {
      "cell_type": "code",
      "execution_count": 2,
      "id": "hytwZ9AwBQdG",
      "metadata": {
        "colab": {
          "base_uri": "https://localhost:8080/"
        },
        "id": "hytwZ9AwBQdG",
        "outputId": "dbf7cb2e-2972-485f-f465-35f498f7924f"
      },
      "outputs": [
        {
          "output_type": "stream",
          "name": "stdout",
          "text": [
            "\u001b[2K     \u001b[90m━━━━━━━━━━━━━━━━━━━━━━━━━━━━━━━━━━━━━━━━\u001b[0m \u001b[32m21.5/21.5 MB\u001b[0m \u001b[31m54.4 MB/s\u001b[0m eta \u001b[36m0:00:00\u001b[0m\n",
            "\u001b[2K     \u001b[90m━━━━━━━━━━━━━━━━━━━━━━━━━━━━━━━━━━━━━━━━\u001b[0m \u001b[32m44.6/44.6 kB\u001b[0m \u001b[31m5.4 MB/s\u001b[0m eta \u001b[36m0:00:00\u001b[0m\n",
            "\u001b[?25h"
          ]
        }
      ],
      "source": [
        "!pip install rasterio einops -q"
      ]
    },
    {
      "cell_type": "code",
      "execution_count": 3,
      "id": "ccs6IAnk4wJe",
      "metadata": {
        "colab": {
          "base_uri": "https://localhost:8080/"
        },
        "id": "ccs6IAnk4wJe",
        "outputId": "1c684ada-972b-4bd1-87cf-0e23dc99068f"
      },
      "outputs": [
        {
          "output_type": "stream",
          "name": "stdout",
          "text": [
            "Mounted at /content/drive\n"
          ]
        }
      ],
      "source": [
        "from google.colab import drive\n",
        "drive.mount('/content/drive')"
      ]
    },
    {
      "cell_type": "code",
      "execution_count": 4,
      "id": "A3EemRRWBLUB",
      "metadata": {
        "colab": {
          "base_uri": "https://localhost:8080/"
        },
        "id": "A3EemRRWBLUB",
        "outputId": "25a26697-2ecf-45cc-e471-50449de05e41"
      },
      "outputs": [
        {
          "output_type": "stream",
          "name": "stdout",
          "text": [
            "--2024-04-19 11:20:42--  https://zenodo.org/records/7711810/files/EuroSAT_MS.zip?download=1\n",
            "Resolving zenodo.org (zenodo.org)... 188.184.98.238, 188.185.79.172, 188.184.103.159, ...\n",
            "Connecting to zenodo.org (zenodo.org)|188.184.98.238|:443... connected.\n",
            "HTTP request sent, awaiting response... 200 OK\n",
            "Length: 2065402329 (1.9G) [application/octet-stream]\n",
            "Saving to: ‘EuroSAT_MS.zip’\n",
            "\n",
            "EuroSAT_MS.zip      100%[===================>]   1.92G  17.5MB/s    in 1m 59s  \n",
            "\n",
            "2024-04-19 11:22:41 (16.6 MB/s) - ‘EuroSAT_MS.zip’ saved [2065402329/2065402329]\n",
            "\n",
            "Unzipped and removed '/content/EuroSAT_MS.zip' successfully.\n"
          ]
        }
      ],
      "source": [
        "!wget -O EuroSAT_MS.zip \"https://zenodo.org/records/7711810/files/EuroSAT_MS.zip?download=1\"\n",
        "zip_path = '/content/EuroSAT_MS.zip'\n",
        "extraction_directory = '/content/'  # Current directory; adjust if necessary\n",
        "\n",
        "# Unzip the file\n",
        "with zipfile.ZipFile(zip_path, 'r') as zip_ref:\n",
        "    zip_ref.extractall(extraction_directory)\n",
        "\n",
        "# Delete the ZIP file\n",
        "os.remove(zip_path)\n",
        "\n",
        "print(f\"Unzipped and removed '{zip_path}' successfully.\")\n",
        "\n",
        "new_directory_path = '/content/EuroSat_np'\n",
        "os.makedirs(new_directory_path, exist_ok=True)\n",
        "new_directory_path_2 = '/content/eurosat-ms'\n",
        "os.makedirs(new_directory_path_2, exist_ok=True)"
      ]
    },
    {
      "cell_type": "code",
      "execution_count": 5,
      "id": "lKr3uwnxh0qn",
      "metadata": {
        "colab": {
          "base_uri": "https://localhost:8080/"
        },
        "id": "lKr3uwnxh0qn",
        "outputId": "29b7838a-5335-4801-ab1f-f44be74cffd8"
      },
      "outputs": [
        {
          "output_type": "stream",
          "name": "stdout",
          "text": [
            "Directory: /content/EuroSAT_MS\n",
            "Number of files: 0\n",
            "Directory: /content/EuroSAT_MS/Residential\n",
            "Number of files: 3000\n",
            "Directory: /content/EuroSAT_MS/Forest\n",
            "Number of files: 3000\n",
            "Directory: /content/EuroSAT_MS/PermanentCrop\n",
            "Number of files: 2500\n",
            "Directory: /content/EuroSAT_MS/HerbaceousVegetation\n",
            "Number of files: 3000\n",
            "Directory: /content/EuroSAT_MS/Pasture\n",
            "Number of files: 2000\n",
            "Directory: /content/EuroSAT_MS/Industrial\n",
            "Number of files: 2500\n",
            "Directory: /content/EuroSAT_MS/SeaLake\n",
            "Number of files: 3000\n",
            "Directory: /content/EuroSAT_MS/River\n",
            "Number of files: 2500\n",
            "Directory: /content/EuroSAT_MS/Highway\n",
            "Number of files: 2500\n",
            "Directory: /content/EuroSAT_MS/AnnualCrop\n",
            "Number of files: 3000\n"
          ]
        }
      ],
      "source": [
        "def count_files_in_subdirectories(directory):\n",
        "    if not os.path.exists(directory):\n",
        "        print(f\"The directory {directory} does not exist.\")\n",
        "        return\n",
        "\n",
        "    for root, dirs, files in os.walk(directory):\n",
        "        print(f\"Directory: {root}\")\n",
        "        print(\"Number of files:\", len(files))\n",
        "\n",
        "# Example usage\n",
        "directory_path = '/content/EuroSAT_MS'\n",
        "count_files_in_subdirectories(directory_path)"
      ]
    },
    {
      "cell_type": "code",
      "execution_count": 7,
      "id": "skoiFpReBX_W",
      "metadata": {
        "id": "skoiFpReBX_W"
      },
      "outputs": [],
      "source": [
        "%run /content/drive/MyDrive/Master_Thesis/image_to_numpy.py"
      ]
    },
    {
      "cell_type": "code",
      "execution_count": 8,
      "id": "90387b74-9b30-4890-b6e3-e5649c73241d",
      "metadata": {
        "id": "90387b74-9b30-4890-b6e3-e5649c73241d"
      },
      "outputs": [],
      "source": [
        "import torch\n",
        "from torch.utils.data import Dataset, DataLoader\n",
        "import numpy as np\n",
        "from sklearn.model_selection import train_test_split\n",
        "from sklearn.metrics import accuracy_score\n",
        "from torchsummary import summary\n",
        "from torchvision.utils import save_image\n",
        "from transformers import ViTModel, ViTConfig, ViTForImageClassification\n",
        "from sklearn.model_selection import StratifiedShuffleSplit\n",
        "import random\n",
        "import torch.nn.functional as F\n",
        "import einops\n",
        "import matplotlib.pyplot as plt\n",
        "from torch import nn\n",
        "from torch import Tensor\n",
        "from PIL import Image\n",
        "from torchvision.transforms import Compose, Resize, ToTensor\n",
        "from einops import rearrange, reduce, repeat\n",
        "from einops.layers.torch import Rearrange, Reduce\n",
        "from torchsummary import summary\n",
        "import time\n",
        "import torch.optim as optim\n",
        "from tqdm import tqdm\n",
        "\n",
        "# set the path to the directory containing the npy files\n",
        "data_dir = '/content/EuroSat_np'\n",
        "\n",
        "# set the path to save the trained model\n",
        "model_path = '/content/eurosat-ms'\n",
        "\n",
        "# Function to create a simple model for embedding watermarks\n",
        "def create_embedding_model():\n",
        "    # A convolutional layer that slightly alters the pixel values to embed the watermark\n",
        "    model = torch.nn.Conv2d(13, 13, kernel_size=3, padding=1, bias=False)\n",
        "    torch.nn.init.normal_(model.weight, mean=0, std=0.01)  # Initialize weights to embed subtle patterns\n",
        "    return model\n",
        "\n",
        "def apply_watermark(image_array):\n",
        "    model = create_embedding_model()\n",
        "    model.eval()  # Set model to evaluation mode\n",
        "\n",
        "    with torch.no_grad():  # Disable gradient computation\n",
        "        # Ensure the input numpy array is in the expected format [height, width, channels]\n",
        "        # Convert and rearrange to 'channels first'\n",
        "        image_tensor = torch.tensor(image_array, dtype=torch.float32)\n",
        "        if image_tensor.shape[2] == 3 or image_tensor.shape[2] == 13:  # Assuming RGB or 13-channel input\n",
        "            image_tensor = rearrange(image_tensor, 'h w c -> c h w')\n",
        "        else:\n",
        "            raise ValueError(\"Unexpected channel count in input array\")\n",
        "        # Apply the model\n",
        "        watermarked_tensor = model(image_tensor.unsqueeze(0)).squeeze(0)\n",
        "        # If needed, rearrange back to 'channels last' for compatibility with other functions\n",
        "        watermarked_tensor = rearrange(watermarked_tensor, 'c h w -> h w c')\n",
        "        return watermarked_tensor.numpy()\n",
        "\n"
      ]
    },
    {
      "cell_type": "code",
      "execution_count": 9,
      "id": "xVi2mroupnvd",
      "metadata": {
        "colab": {
          "base_uri": "https://localhost:8080/"
        },
        "id": "xVi2mroupnvd",
        "outputId": "ffe25ef9-d8cd-45e5-c0e8-3a2649a3cc72"
      },
      "outputs": [
        {
          "output_type": "stream",
          "name": "stdout",
          "text": [
            "X0.npy shape: (3000, 64, 64, 13)\n",
            "X1.npy shape: (3000, 64, 64, 13)\n",
            "X2.npy shape: (3000, 64, 64, 13)\n",
            "X3.npy shape: (2500, 64, 64, 13)\n",
            "X4.npy shape: (2500, 64, 64, 13)\n",
            "X5.npy shape: (2000, 64, 64, 13)\n",
            "X6.npy shape: (2500, 64, 64, 13)\n",
            "X7.npy shape: (3000, 64, 64, 13)\n",
            "X8.npy shape: (2500, 64, 64, 13)\n",
            "X9.npy shape: (3000, 64, 64, 13)\n",
            "Total images loaded:  (27000, 64, 64, 13)\n",
            "Total labels loaded:  (27000,)\n"
          ]
        }
      ],
      "source": [
        "# Load data\n",
        "X, y = [], []\n",
        "for i in range(10):  # X0.npy through X9.npy and corresponding y files.\n",
        "    X_i = np.load(f'{data_dir}/X{i}.npy')\n",
        "    y_i = np.load(f'{data_dir}/y{i}.npy')\n",
        "\n",
        "    # Debug: Print the shape of each loaded part\n",
        "    print(f'X{i}.npy shape: {X_i.shape}')\n",
        "\n",
        "    X.append(X_i)\n",
        "    y.append(y_i)\n",
        "\n",
        "# Concatenate all parts into a single array\n",
        "X = np.concatenate(X, axis=0)\n",
        "y = np.concatenate(y, axis=0)\n",
        "\n",
        "# Final check on the full dataset\n",
        "print(\"Total images loaded: \", X.shape)\n",
        "print(\"Total labels loaded: \", y.shape)"
      ]
    },
    {
      "cell_type": "code",
      "execution_count": 10,
      "id": "NlzsUPgzD7KU",
      "metadata": {
        "colab": {
          "base_uri": "https://localhost:8080/"
        },
        "id": "NlzsUPgzD7KU",
        "outputId": "c5fc611f-8310-48a4-81e3-a3f91ed49cb8"
      },
      "outputs": [
        {
          "output_type": "stream",
          "name": "stdout",
          "text": [
            "['Residential', 'Forest', 'PermanentCrop', 'HerbaceousVegetation', 'Pasture', 'Industrial', 'SeaLake', 'River', 'Highway', 'AnnualCrop']\n"
          ]
        }
      ],
      "source": [
        "DATASET = \"/content/EuroSAT_MS/\"\n",
        "\n",
        "LABELS = os.listdir(DATASET)\n",
        "print(LABELS)"
      ]
    },
    {
      "cell_type": "code",
      "execution_count": 11,
      "id": "cU3HKqdjEAm0",
      "metadata": {
        "colab": {
          "base_uri": "https://localhost:8080/",
          "height": 448
        },
        "id": "cU3HKqdjEAm0",
        "outputId": "76c7227a-b1a9-49c2-f66e-b7161053a484"
      },
      "outputs": [
        {
          "output_type": "display_data",
          "data": {
            "text/plain": [
              "<Figure size 1200x600 with 1 Axes>"
            ],
            "image/png": "[encoded data removed]"
          },
          "metadata": {}
        }
      ],
      "source": [
        "# plot class distributions of whole dataset\n",
        "counts = {}\n",
        "\n",
        "for l in LABELS:\n",
        "    counts[l] = len(os.listdir(os.path.join(DATASET, l)))\n",
        "\n",
        "\n",
        "plt.figure(figsize=(12, 6))\n",
        "\n",
        "plt.bar(range(len(counts)), list(counts.values()), align='center')\n",
        "plt.xticks(range(len(counts)), list(counts.keys()), fontsize=12, rotation=40)\n",
        "plt.xlabel('class label', fontsize=13)\n",
        "plt.ylabel('class size', fontsize=13)\n",
        "plt.title('EUROSAT Class Distribution', fontsize=15);"
      ]
    },
    {
      "cell_type": "code",
      "execution_count": 12,
      "id": "884ff50a-f25a-4574-9c7f-d619bfd6e7a8",
      "metadata": {
        "colab": {
          "base_uri": "https://localhost:8080/"
        },
        "id": "884ff50a-f25a-4574-9c7f-d619bfd6e7a8",
        "outputId": "4d961a4a-96c8-4fb6-ed1c-ce3175920a3b"
      },
      "outputs": [
        {
          "output_type": "stream",
          "name": "stdout",
          "text": [
            "(27000, 64, 64, 13)\n"
          ]
        }
      ],
      "source": [
        "print(X.shape)\n",
        "\n",
        "#X = rearrange(X, 'b h w c -> b c h w')\n",
        "\n",
        "#print(X.shape)"
      ]
    },
    {
      "cell_type": "code",
      "execution_count": 13,
      "id": "f1aa35f3-92ba-429d-8191-cfb5395f8142",
      "metadata": {
        "id": "f1aa35f3-92ba-429d-8191-cfb5395f8142"
      },
      "outputs": [],
      "source": [
        "# split the data into training and testing sets\n",
        "split = StratifiedShuffleSplit(n_splits=1, test_size=0.2, random_state=42)\n",
        "#X_train, X_test, y_train, y_test = train_test_split(X, y, test_size=0.2, random_state=42)\n",
        "\n",
        "\n",
        "# split the data\n",
        "for train_idx, test_idx in split.split(X, y):\n",
        "    X_train, X_test = X[train_idx], X[test_idx]\n",
        "    y_train, y_test = y[train_idx], y[test_idx]"
      ]
    },
    {
      "cell_type": "code",
      "execution_count": 14,
      "id": "09590ed0-f866-4a76-b34d-e341f1f441f3",
      "metadata": {
        "id": "09590ed0-f866-4a76-b34d-e341f1f441f3"
      },
      "outputs": [],
      "source": [
        "class EuroSATDataset(Dataset):\n",
        "    def __init__(self, X, y, watermark_prob=0.5):\n",
        "        self.X = X\n",
        "        self.y = y\n",
        "        self.watermark_prob = watermark_prob\n",
        "        self.watermarks = np.random.rand(len(X)) < watermark_prob\n",
        "\n",
        "    def __len__(self):\n",
        "        return len(self.X)\n",
        "\n",
        "    def __getitem__(self, idx):\n",
        "        image = self.X[idx]\n",
        "        landscape_label = self.y[idx]\n",
        "        watermark_label = self.watermarks[idx]\n",
        "\n",
        "        # Apply watermark if flagged\n",
        "        if watermark_label:\n",
        "            image = apply_watermark(image)\n",
        "\n",
        "        # Convert the image to a tensor and rearrange to 'channels first'\n",
        "        image = torch.from_numpy(image).float()\n",
        "        image = image.permute(2, 0, 1)  # Ensuring channels first format\n",
        "\n",
        "        landscape_label = torch.tensor(landscape_label, dtype=torch.long)\n",
        "        return image, landscape_label, watermark_label\n",
        "\n",
        "    def save_dataset_images(dataset, root_dir):\n",
        "    # Iterate over the dataset with a progress bar\n",
        "      for i in tqdm(range(len(dataset)), desc=\"Saving images\"):\n",
        "        image, landscape_label, watermark_label = dataset[i]\n",
        "        label_name = labels[landscape_label]  # Assuming landscape_label is the index in the labels list\n",
        "\n",
        "        # Determine the subfolder based on the watermark label\n",
        "        subfolder = \"watermarked\" if watermark_label else \"non_watermarked\"\n",
        "        file_path = os.path.join(root_dir, label_name, subfolder, f\"{i}.png\")\n",
        "\n",
        "        # Save the image\n",
        "        save_image(image, file_path)\n",
        "\n",
        "# Create the DataLoader for both training and testing datasets\n",
        "train_dataset = EuroSATDataset(X_train, y_train)\n",
        "train_loader = DataLoader(train_dataset, batch_size=32, shuffle=True)\n",
        "\n",
        "test_dataset = EuroSATDataset(X_test, y_test)\n",
        "test_loader = DataLoader(test_dataset, batch_size=32, shuffle=False)\n",
        "# set the device to use for training and testing\n",
        "device = torch.device('cuda' if torch.cuda.is_available() else 'cpu')"
      ]
    },
    {
      "cell_type": "code",
      "execution_count": 15,
      "id": "ef557f54-7232-401b-9458-ac6a3300e241",
      "metadata": {
        "colab": {
          "base_uri": "https://localhost:8080/"
        },
        "id": "ef557f54-7232-401b-9458-ac6a3300e241",
        "outputId": "bc5b19c6-1ed8-40ae-aee1-5297ac2f31c9"
      },
      "outputs": [
        {
          "output_type": "stream",
          "name": "stdout",
          "text": [
            "675\n"
          ]
        }
      ],
      "source": [
        "print(len(train_loader))"
      ]
    },
    {
      "cell_type": "code",
      "execution_count": 16,
      "id": "e3959fe0-036c-48c8-b103-34772c0a8ef4",
      "metadata": {
        "colab": {
          "base_uri": "https://localhost:8080/"
        },
        "id": "e3959fe0-036c-48c8-b103-34772c0a8ef4",
        "outputId": "b99d3d25-23c6-4d53-db40-79686ce2172d"
      },
      "outputs": [
        {
          "output_type": "stream",
          "name": "stdout",
          "text": [
            "169\n"
          ]
        }
      ],
      "source": [
        "print(len(test_loader))"
      ]
    },
    {
      "cell_type": "code",
      "execution_count": 17,
      "id": "OlM3hKiPTdOL",
      "metadata": {
        "id": "OlM3hKiPTdOL"
      },
      "outputs": [],
      "source": [
        "root_dir = \"/content/EuroSAT_MS/\"\n",
        "labels = ['Forest', 'HerbaceousVegetation', 'AnnualCrop', 'Industrial', 'PermanentCrop', 'SeaLake', 'Residential', 'River', 'Pasture', 'Highway']\n",
        "\n",
        "# Create a directory for each label and subdirectories for watermarked and non-watermarked\n",
        "for label in labels:\n",
        "    os.makedirs(os.path.join(root_dir, label, \"watermarked\"), exist_ok=True)\n",
        "    os.makedirs(os.path.join(root_dir, label, \"non_watermarked\"), exist_ok=True)\n"
      ]
    },
    {
      "cell_type": "markdown",
      "id": "29713ad4-88e7-477e-b0de-ae7326f53fdd",
      "metadata": {
        "id": "29713ad4-88e7-477e-b0de-ae7326f53fdd"
      },
      "source": [
        "# Vit blocks"
      ]
    },
    {
      "cell_type": "code",
      "execution_count": 18,
      "id": "f5a0e564-b3f1-45bb-ae2f-81fc17f9d2f2",
      "metadata": {
        "id": "f5a0e564-b3f1-45bb-ae2f-81fc17f9d2f2"
      },
      "outputs": [],
      "source": [
        "class PatchEmbedding(nn.Module):\n",
        "    def __init__(self, in_channels: int = 3, patch_size: int = 16, emb_size: int = 768, img_size: int = 224):\n",
        "        self.patch_size = patch_size\n",
        "        super().__init__()\n",
        "        self.projection = nn.Sequential(\n",
        "            # using a conv layer instead of a linear one -> performance gains\n",
        "            nn.Conv2d(in_channels, emb_size, kernel_size=patch_size, stride=patch_size),\n",
        "            Rearrange('b e (h) (w) -> b (h w) e'),\n",
        "        )\n",
        "        self.cls_token = nn.Parameter(torch.randn(1,1, emb_size))\n",
        "        self.positions = nn.Parameter(torch.randn((img_size // patch_size) **2 + 1, emb_size))\n",
        "\n",
        "\n",
        "    def forward(self, x: Tensor) -> Tensor:\n",
        "        b, _, _, _ = x.shape\n",
        "        x = self.projection(x)\n",
        "        cls_tokens = repeat(self.cls_token, '() n e -> b n e', b=b)\n",
        "        # prepend the cls token to the input\n",
        "        x = torch.cat([cls_tokens, x], dim=1)\n",
        "        # add position embedding\n",
        "        x += self.positions\n",
        "        return x\n",
        "\n"
      ]
    },
    {
      "cell_type": "code",
      "execution_count": 19,
      "id": "5d8af1de-26e2-4e73-ac41-55dbd9e52509",
      "metadata": {
        "id": "5d8af1de-26e2-4e73-ac41-55dbd9e52509"
      },
      "outputs": [],
      "source": [
        "class MultiHeadAttention(nn.Module):\n",
        "    def __init__(self, emb_size: int = 768, num_heads: int = 8, dropout: float = 0):\n",
        "        super().__init__()\n",
        "        self.emb_size = emb_size\n",
        "        self.num_heads = num_heads\n",
        "        # fuse the queries, keys and values in one matrix\n",
        "        self.qkv = nn.Linear(emb_size, emb_size * 3)\n",
        "        self.att_drop = nn.Dropout(dropout)\n",
        "        self.projection = nn.Linear(emb_size, emb_size)\n",
        "\n",
        "    def forward(self, x : Tensor, mask: Tensor = None) -> Tensor:\n",
        "        # split keys, queries and values in num_heads\n",
        "        qkv = rearrange(self.qkv(x), \"b n (h d qkv) -> (qkv) b h n d\", h=self.num_heads, qkv=3)\n",
        "        queries, keys, values = qkv[0], qkv[1], qkv[2]\n",
        "        # sum up over the last axis\n",
        "        energy = torch.einsum('bhqd, bhkd -> bhqk', queries, keys) # batch, num_heads, query_len, key_len\n",
        "        if mask is not None:\n",
        "            fill_value = torch.finfo(torch.float32).min\n",
        "            energy.mask_fill(~mask, fill_value)\n",
        "\n",
        "        scaling = self.emb_size ** (1/2)\n",
        "        att = F.softmax(energy, dim=-1) / scaling\n",
        "        att = self.att_drop(att)\n",
        "        # sum up over the third axis\n",
        "        out = torch.einsum('bhal, bhlv -> bhav ', att, values)\n",
        "        out = rearrange(out, \"b h n d -> b n (h d)\")\n",
        "        out = self.projection(out)\n",
        "        return out\n",
        "\n"
      ]
    },
    {
      "cell_type": "code",
      "execution_count": 20,
      "id": "c24a9002-d10a-47fb-8a23-3aba20049236",
      "metadata": {
        "id": "c24a9002-d10a-47fb-8a23-3aba20049236"
      },
      "outputs": [],
      "source": [
        "class ResidualAdd(nn.Module):\n",
        "    def __init__(self, fn):\n",
        "        super().__init__()\n",
        "        self.fn = fn\n",
        "\n",
        "    def forward(self, x, **kwargs):\n",
        "        res = x\n",
        "        x = self.fn(x, **kwargs)\n",
        "        x += res\n",
        "        return x"
      ]
    },
    {
      "cell_type": "code",
      "execution_count": 21,
      "id": "64ea007a-8de8-48ab-a166-4eac8a5f8aea",
      "metadata": {
        "id": "64ea007a-8de8-48ab-a166-4eac8a5f8aea"
      },
      "outputs": [],
      "source": [
        "class FeedForwardBlock(nn.Sequential):\n",
        "    def __init__(self, emb_size: int, expansion: int = 4, drop_p: float = 0.):\n",
        "        super().__init__(\n",
        "            nn.Linear(emb_size, expansion * emb_size),\n",
        "            nn.GELU(),\n",
        "            nn.Dropout(drop_p),\n",
        "            nn.Linear(expansion * emb_size, emb_size),\n",
        "        )"
      ]
    },
    {
      "cell_type": "code",
      "execution_count": 22,
      "id": "cce715e5-1832-4c05-9375-b897f035f17d",
      "metadata": {
        "id": "cce715e5-1832-4c05-9375-b897f035f17d"
      },
      "outputs": [],
      "source": [
        "class TransformerEncoderBlock(nn.Sequential):\n",
        "    def __init__(self,\n",
        "                 emb_size: int = 768,\n",
        "                 drop_p: float = 0.,\n",
        "                 forward_expansion: int = 4,\n",
        "                 forward_drop_p: float = 0.,\n",
        "                 ** kwargs):\n",
        "        super().__init__(\n",
        "            ResidualAdd(nn.Sequential(\n",
        "                nn.LayerNorm(emb_size),\n",
        "                MultiHeadAttention(emb_size, **kwargs),\n",
        "                nn.Dropout(drop_p)\n",
        "            )),\n",
        "            ResidualAdd(nn.Sequential(\n",
        "                nn.LayerNorm(emb_size),\n",
        "                FeedForwardBlock(\n",
        "                    emb_size, expansion=forward_expansion, drop_p=forward_drop_p),\n",
        "                nn.Dropout(drop_p)\n",
        "            )\n",
        "            ))"
      ]
    },
    {
      "cell_type": "code",
      "execution_count": 23,
      "id": "d14f9ad8-4383-4fb6-8557-ac39bed1c7fc",
      "metadata": {
        "id": "d14f9ad8-4383-4fb6-8557-ac39bed1c7fc"
      },
      "outputs": [],
      "source": [
        "class TransformerEncoder(nn.Sequential):\n",
        "    def __init__(self, depth: int = 12, **kwargs):\n",
        "        super().__init__(*[TransformerEncoderBlock(**kwargs) for _ in range(depth)])\n"
      ]
    },
    {
      "cell_type": "code",
      "execution_count": 24,
      "id": "ce6b0bac-f79d-452e-a362-32ec22a71b1b",
      "metadata": {
        "id": "ce6b0bac-f79d-452e-a362-32ec22a71b1b"
      },
      "outputs": [],
      "source": [
        "class ClassificationHead(nn.Sequential):\n",
        "    def __init__(self, emb_size: int = 768, n_classes: int = 1000):\n",
        "        super().__init__(\n",
        "            Reduce('b n e -> b e', reduction='mean'),\n",
        "            nn.LayerNorm(emb_size),\n",
        "            nn.Linear(emb_size, n_classes))"
      ]
    },
    {
      "cell_type": "code",
      "execution_count": 25,
      "id": "6e9ee83d-9990-4a61-9cf3-bbf83ad8491b",
      "metadata": {
        "id": "6e9ee83d-9990-4a61-9cf3-bbf83ad8491b"
      },
      "outputs": [],
      "source": [
        "class ViT(nn.Sequential):\n",
        "    def __init__(self,\n",
        "                in_channels: int = 13,\n",
        "                patch_size: int = 16,\n",
        "                emb_size: int = 768,\n",
        "                img_size: int = 64,\n",
        "                depth: int = 12,\n",
        "                n_classes: int = 10,\n",
        "                **kwargs):\n",
        "        super().__init__(\n",
        "            PatchEmbedding(in_channels, patch_size, emb_size, img_size),\n",
        "            TransformerEncoder(depth, emb_size=emb_size, **kwargs),\n",
        "            ClassificationHead(emb_size, n_classes)\n",
        "        )\n"
      ]
    },
    {
      "cell_type": "code",
      "execution_count": 26,
      "id": "06896db5-c0b3-4602-8355-f7e195f77483",
      "metadata": {
        "colab": {
          "base_uri": "https://localhost:8080/"
        },
        "id": "06896db5-c0b3-4602-8355-f7e195f77483",
        "outputId": "d98bcf29-c317-445d-b61d-0d6e27eb9461"
      },
      "outputs": [
        {
          "output_type": "stream",
          "name": "stdout",
          "text": [
            "----------------------------------------------------------------\n",
            "        Layer (type)               Output Shape         Param #\n",
            "================================================================\n",
            "            Conv2d-1            [-1, 768, 4, 4]       2,556,672\n",
            "         Rearrange-2              [-1, 16, 768]               0\n",
            "    PatchEmbedding-3              [-1, 17, 768]               0\n",
            "         LayerNorm-4              [-1, 17, 768]           1,536\n",
            "            Linear-5             [-1, 17, 2304]       1,771,776\n",
            "           Dropout-6            [-1, 8, 17, 17]               0\n",
            "            Linear-7              [-1, 17, 768]         590,592\n",
            "MultiHeadAttention-8              [-1, 17, 768]               0\n",
            "           Dropout-9              [-1, 17, 768]               0\n",
            "      ResidualAdd-10              [-1, 17, 768]               0\n",
            "        LayerNorm-11              [-1, 17, 768]           1,536\n",
            "           Linear-12             [-1, 17, 3072]       2,362,368\n",
            "             GELU-13             [-1, 17, 3072]               0\n",
            "          Dropout-14             [-1, 17, 3072]               0\n",
            "           Linear-15              [-1, 17, 768]       2,360,064\n",
            "          Dropout-16              [-1, 17, 768]               0\n",
            "      ResidualAdd-17              [-1, 17, 768]               0\n",
            "        LayerNorm-18              [-1, 17, 768]           1,536\n",
            "           Linear-19             [-1, 17, 2304]       1,771,776\n",
            "          Dropout-20            [-1, 8, 17, 17]               0\n",
            "           Linear-21              [-1, 17, 768]         590,592\n",
            "MultiHeadAttention-22              [-1, 17, 768]               0\n",
            "          Dropout-23              [-1, 17, 768]               0\n",
            "      ResidualAdd-24              [-1, 17, 768]               0\n",
            "        LayerNorm-25              [-1, 17, 768]           1,536\n",
            "           Linear-26             [-1, 17, 3072]       2,362,368\n",
            "             GELU-27             [-1, 17, 3072]               0\n",
            "          Dropout-28             [-1, 17, 3072]               0\n",
            "           Linear-29              [-1, 17, 768]       2,360,064\n",
            "          Dropout-30              [-1, 17, 768]               0\n",
            "      ResidualAdd-31              [-1, 17, 768]               0\n",
            "        LayerNorm-32              [-1, 17, 768]           1,536\n",
            "           Linear-33             [-1, 17, 2304]       1,771,776\n",
            "          Dropout-34            [-1, 8, 17, 17]               0\n",
            "           Linear-35              [-1, 17, 768]         590,592\n",
            "MultiHeadAttention-36              [-1, 17, 768]               0\n",
            "          Dropout-37              [-1, 17, 768]               0\n",
            "      ResidualAdd-38              [-1, 17, 768]               0\n",
            "        LayerNorm-39              [-1, 17, 768]           1,536\n",
            "           Linear-40             [-1, 17, 3072]       2,362,368\n",
            "             GELU-41             [-1, 17, 3072]               0\n",
            "          Dropout-42             [-1, 17, 3072]               0\n",
            "           Linear-43              [-1, 17, 768]       2,360,064\n",
            "          Dropout-44              [-1, 17, 768]               0\n",
            "      ResidualAdd-45              [-1, 17, 768]               0\n",
            "        LayerNorm-46              [-1, 17, 768]           1,536\n",
            "           Linear-47             [-1, 17, 2304]       1,771,776\n",
            "          Dropout-48            [-1, 8, 17, 17]               0\n",
            "           Linear-49              [-1, 17, 768]         590,592\n",
            "MultiHeadAttention-50              [-1, 17, 768]               0\n",
            "          Dropout-51              [-1, 17, 768]               0\n",
            "      ResidualAdd-52              [-1, 17, 768]               0\n",
            "        LayerNorm-53              [-1, 17, 768]           1,536\n",
            "           Linear-54             [-1, 17, 3072]       2,362,368\n",
            "             GELU-55             [-1, 17, 3072]               0\n",
            "          Dropout-56             [-1, 17, 3072]               0\n",
            "           Linear-57              [-1, 17, 768]       2,360,064\n",
            "          Dropout-58              [-1, 17, 768]               0\n",
            "      ResidualAdd-59              [-1, 17, 768]               0\n",
            "        LayerNorm-60              [-1, 17, 768]           1,536\n",
            "           Linear-61             [-1, 17, 2304]       1,771,776\n",
            "          Dropout-62            [-1, 8, 17, 17]               0\n",
            "           Linear-63              [-1, 17, 768]         590,592\n",
            "MultiHeadAttention-64              [-1, 17, 768]               0\n",
            "          Dropout-65              [-1, 17, 768]               0\n",
            "      ResidualAdd-66              [-1, 17, 768]               0\n",
            "        LayerNorm-67              [-1, 17, 768]           1,536\n",
            "           Linear-68             [-1, 17, 3072]       2,362,368\n",
            "             GELU-69             [-1, 17, 3072]               0\n",
            "          Dropout-70             [-1, 17, 3072]               0\n",
            "           Linear-71              [-1, 17, 768]       2,360,064\n",
            "          Dropout-72              [-1, 17, 768]               0\n",
            "      ResidualAdd-73              [-1, 17, 768]               0\n",
            "        LayerNorm-74              [-1, 17, 768]           1,536\n",
            "           Linear-75             [-1, 17, 2304]       1,771,776\n",
            "          Dropout-76            [-1, 8, 17, 17]               0\n",
            "           Linear-77              [-1, 17, 768]         590,592\n",
            "MultiHeadAttention-78              [-1, 17, 768]               0\n",
            "          Dropout-79              [-1, 17, 768]               0\n",
            "      ResidualAdd-80              [-1, 17, 768]               0\n",
            "        LayerNorm-81              [-1, 17, 768]           1,536\n",
            "           Linear-82             [-1, 17, 3072]       2,362,368\n",
            "             GELU-83             [-1, 17, 3072]               0\n",
            "          Dropout-84             [-1, 17, 3072]               0\n",
            "           Linear-85              [-1, 17, 768]       2,360,064\n",
            "          Dropout-86              [-1, 17, 768]               0\n",
            "      ResidualAdd-87              [-1, 17, 768]               0\n",
            "        LayerNorm-88              [-1, 17, 768]           1,536\n",
            "           Linear-89             [-1, 17, 2304]       1,771,776\n",
            "          Dropout-90            [-1, 8, 17, 17]               0\n",
            "           Linear-91              [-1, 17, 768]         590,592\n",
            "MultiHeadAttention-92              [-1, 17, 768]               0\n",
            "          Dropout-93              [-1, 17, 768]               0\n",
            "      ResidualAdd-94              [-1, 17, 768]               0\n",
            "        LayerNorm-95              [-1, 17, 768]           1,536\n",
            "           Linear-96             [-1, 17, 3072]       2,362,368\n",
            "             GELU-97             [-1, 17, 3072]               0\n",
            "          Dropout-98             [-1, 17, 3072]               0\n",
            "           Linear-99              [-1, 17, 768]       2,360,064\n",
            "         Dropout-100              [-1, 17, 768]               0\n",
            "     ResidualAdd-101              [-1, 17, 768]               0\n",
            "       LayerNorm-102              [-1, 17, 768]           1,536\n",
            "          Linear-103             [-1, 17, 2304]       1,771,776\n",
            "         Dropout-104            [-1, 8, 17, 17]               0\n",
            "          Linear-105              [-1, 17, 768]         590,592\n",
            "MultiHeadAttention-106              [-1, 17, 768]               0\n",
            "         Dropout-107              [-1, 17, 768]               0\n",
            "     ResidualAdd-108              [-1, 17, 768]               0\n",
            "       LayerNorm-109              [-1, 17, 768]           1,536\n",
            "          Linear-110             [-1, 17, 3072]       2,362,368\n",
            "            GELU-111             [-1, 17, 3072]               0\n",
            "         Dropout-112             [-1, 17, 3072]               0\n",
            "          Linear-113              [-1, 17, 768]       2,360,064\n",
            "         Dropout-114              [-1, 17, 768]               0\n",
            "     ResidualAdd-115              [-1, 17, 768]               0\n",
            "       LayerNorm-116              [-1, 17, 768]           1,536\n",
            "          Linear-117             [-1, 17, 2304]       1,771,776\n",
            "         Dropout-118            [-1, 8, 17, 17]               0\n",
            "          Linear-119              [-1, 17, 768]         590,592\n",
            "MultiHeadAttention-120              [-1, 17, 768]               0\n",
            "         Dropout-121              [-1, 17, 768]               0\n",
            "     ResidualAdd-122              [-1, 17, 768]               0\n",
            "       LayerNorm-123              [-1, 17, 768]           1,536\n",
            "          Linear-124             [-1, 17, 3072]       2,362,368\n",
            "            GELU-125             [-1, 17, 3072]               0\n",
            "         Dropout-126             [-1, 17, 3072]               0\n",
            "          Linear-127              [-1, 17, 768]       2,360,064\n",
            "         Dropout-128              [-1, 17, 768]               0\n",
            "     ResidualAdd-129              [-1, 17, 768]               0\n",
            "       LayerNorm-130              [-1, 17, 768]           1,536\n",
            "          Linear-131             [-1, 17, 2304]       1,771,776\n",
            "         Dropout-132            [-1, 8, 17, 17]               0\n",
            "          Linear-133              [-1, 17, 768]         590,592\n",
            "MultiHeadAttention-134              [-1, 17, 768]               0\n",
            "         Dropout-135              [-1, 17, 768]               0\n",
            "     ResidualAdd-136              [-1, 17, 768]               0\n",
            "       LayerNorm-137              [-1, 17, 768]           1,536\n",
            "          Linear-138             [-1, 17, 3072]       2,362,368\n",
            "            GELU-139             [-1, 17, 3072]               0\n",
            "         Dropout-140             [-1, 17, 3072]               0\n",
            "          Linear-141              [-1, 17, 768]       2,360,064\n",
            "         Dropout-142              [-1, 17, 768]               0\n",
            "     ResidualAdd-143              [-1, 17, 768]               0\n",
            "       LayerNorm-144              [-1, 17, 768]           1,536\n",
            "          Linear-145             [-1, 17, 2304]       1,771,776\n",
            "         Dropout-146            [-1, 8, 17, 17]               0\n",
            "          Linear-147              [-1, 17, 768]         590,592\n",
            "MultiHeadAttention-148              [-1, 17, 768]               0\n",
            "         Dropout-149              [-1, 17, 768]               0\n",
            "     ResidualAdd-150              [-1, 17, 768]               0\n",
            "       LayerNorm-151              [-1, 17, 768]           1,536\n",
            "          Linear-152             [-1, 17, 3072]       2,362,368\n",
            "            GELU-153             [-1, 17, 3072]               0\n",
            "         Dropout-154             [-1, 17, 3072]               0\n",
            "          Linear-155              [-1, 17, 768]       2,360,064\n",
            "         Dropout-156              [-1, 17, 768]               0\n",
            "     ResidualAdd-157              [-1, 17, 768]               0\n",
            "       LayerNorm-158              [-1, 17, 768]           1,536\n",
            "          Linear-159             [-1, 17, 2304]       1,771,776\n",
            "         Dropout-160            [-1, 8, 17, 17]               0\n",
            "          Linear-161              [-1, 17, 768]         590,592\n",
            "MultiHeadAttention-162              [-1, 17, 768]               0\n",
            "         Dropout-163              [-1, 17, 768]               0\n",
            "     ResidualAdd-164              [-1, 17, 768]               0\n",
            "       LayerNorm-165              [-1, 17, 768]           1,536\n",
            "          Linear-166             [-1, 17, 3072]       2,362,368\n",
            "            GELU-167             [-1, 17, 3072]               0\n",
            "         Dropout-168             [-1, 17, 3072]               0\n",
            "          Linear-169              [-1, 17, 768]       2,360,064\n",
            "         Dropout-170              [-1, 17, 768]               0\n",
            "     ResidualAdd-171              [-1, 17, 768]               0\n",
            "          Reduce-172                  [-1, 768]               0\n",
            "       LayerNorm-173                  [-1, 768]           1,536\n",
            "          Linear-174                   [-1, 10]           7,690\n",
            "================================================================\n",
            "Total params: 87,620,362\n",
            "Trainable params: 87,620,362\n",
            "Non-trainable params: 0\n",
            "----------------------------------------------------------------\n",
            "Input size (MB): 0.20\n",
            "Forward/backward pass size (MB): 29.20\n",
            "Params size (MB): 334.25\n",
            "Estimated Total Size (MB): 363.65\n",
            "----------------------------------------------------------------\n"
          ]
        }
      ],
      "source": [
        "summary(ViT().cuda(), (13, 64, 64), device='cuda')"
      ]
    },
    {
      "cell_type": "code",
      "execution_count": 27,
      "id": "3da8dc80-db4c-4418-84df-b4e7ee4ded84",
      "metadata": {
        "id": "3da8dc80-db4c-4418-84df-b4e7ee4ded84"
      },
      "outputs": [],
      "source": [
        "model = ViT()\n",
        "model=model.cuda()"
      ]
    },
    {
      "cell_type": "code",
      "execution_count": 28,
      "id": "40f42e4c-efcc-4191-b81b-1d87d365dd3b",
      "metadata": {
        "id": "40f42e4c-efcc-4191-b81b-1d87d365dd3b"
      },
      "outputs": [],
      "source": [
        "learning_rate = 0.001\n",
        "\n",
        "criterion = nn.CrossEntropyLoss()\n",
        "optimizer = optim.Adam(model.parameters(), lr=learning_rate)\n",
        "\n",
        "num_epochs = 10\n"
      ]
    },
    {
      "cell_type": "code",
      "execution_count": 29,
      "id": "70e7a618-dcbf-44f6-9f09-08c9bd7e6af0",
      "metadata": {
        "colab": {
          "base_uri": "https://localhost:8080/"
        },
        "id": "70e7a618-dcbf-44f6-9f09-08c9bd7e6af0",
        "outputId": "68dfb350-680f-45e3-b648-183a443188a8"
      },
      "outputs": [
        {
          "output_type": "stream",
          "name": "stdout",
          "text": [
            "True\n"
          ]
        }
      ],
      "source": [
        "print(torch.cuda.is_available())"
      ]
    },
    {
      "cell_type": "code",
      "execution_count": 30,
      "id": "7b44aa2d-5d4d-465a-8970-a739a023c317",
      "metadata": {
        "id": "7b44aa2d-5d4d-465a-8970-a739a023c317"
      },
      "outputs": [],
      "source": [
        "train_losses = []\n",
        "train_accu = []\n",
        "\n",
        "def train(epoch):\n",
        "    print('Epoch : %d'%epoch)\n",
        "\n",
        "    model.train()\n",
        "    running_loss=0\n",
        "    correct=0\n",
        "    total=0\n",
        "    for images, landscape_labels, _ in tqdm(train_loader):\n",
        "        images = images.float().cuda()\n",
        "        landscape_labels = landscape_labels.float().cuda()\n",
        "        #print(images.size())\n",
        "        #print(labels.size())\n",
        "        # Forward pass\n",
        "        #model = model.cuda()\n",
        "        outputs = model(images)\n",
        "        labels1= np.zeros((32,10))\n",
        "\n",
        "        #labels1 = tensor.detach().cpu().numpy()\n",
        "        for j in range(32):\n",
        "            i=landscape_labels[j]\n",
        "            i=int(i.item())\n",
        "            # print(i)\n",
        "            labels1[j][i]=1\n",
        "        labels1=torch.from_numpy(labels1)\n",
        "        #print(labels1.size())\n",
        "        labels1=labels1.to(device='cuda')\n",
        "        loss = criterion(outputs, labels1)\n",
        "\n",
        "\n",
        "       # Backward and optimize\n",
        "        optimizer.zero_grad()\n",
        "        loss.backward()\n",
        "        optimizer.step()\n",
        "\n",
        "\n",
        "    #Replaces pow(2.0) with abs() for L1 regularization\n",
        "\n",
        "#     l2_lambda = 0.001\n",
        "#     l2_norm = sum(p.pow(2.0).sum()\n",
        "#                   for p in model.parameters())\n",
        "\n",
        "#     loss = loss + l2_lambda * l2_norm\n",
        "\n",
        "\n",
        "        running_loss += loss.item()\n",
        "\n",
        "        _, predicted = outputs.max(1)\n",
        "        total += landscape_labels.size(0)\n",
        "        correct += predicted.eq(landscape_labels).sum().item()\n",
        "\n",
        "    train_loss=running_loss/len(train_loader)\n",
        "    accu=100.*correct/total\n",
        "\n",
        "    train_accu.append(accu)\n",
        "    train_losses.append(train_loss)\n",
        "    print('Train Loss: %.3f | Accuracy: %.3f'%(train_loss,accu))\n"
      ]
    },
    {
      "cell_type": "code",
      "execution_count": 31,
      "id": "02e2f967-1551-4d76-95b4-e606c6c05c00",
      "metadata": {
        "id": "02e2f967-1551-4d76-95b4-e606c6c05c00"
      },
      "outputs": [],
      "source": [
        "eval_losses=[]\n",
        "eval_accu=[]\n",
        "\n",
        "def test(epoch):\n",
        "    model.eval()\n",
        "\n",
        "    running_loss=0\n",
        "    correct=0\n",
        "    total=0\n",
        "    #print(test_loader)\n",
        "    with torch.no_grad():\n",
        "        for images, landscape_labels, _ in tqdm(train_loader):\n",
        "            #images = images.to(device='cuda', dtype=torch.float)\n",
        "            images = images.float().cuda()\n",
        "            landscape_labels = landscape_labels.float().cuda()\n",
        "            #labels = labels.to(device='cuda', dtype=torch.float)\n",
        "\n",
        "            # Predict classes using the model\n",
        "            outputs = model(images)\n",
        "            #print(labels.size())\n",
        "            t,y=outputs.shape\n",
        "            # print(t)\n",
        "            labels1= np.zeros((t,10))\n",
        "            for j in range(t):\n",
        "                i=landscape_labels[j]\n",
        "                i=int(i.item())\n",
        "                labels1[j][i]=1\n",
        "            labels1=torch.from_numpy(labels1)\n",
        "            #print(labels1.size())\n",
        "            labels1=labels1.to(device='cuda')\n",
        "            #outputs=outputs.tensor()\n",
        "            loss= criterion(outputs,labels1)\n",
        "            running_loss+=loss.item()\n",
        "\n",
        "\n",
        "           # Compute accuracy\n",
        "            _, predicted = torch.max(outputs.data, 1)\n",
        "            total += landscape_labels.size(0)\n",
        "            correct += (predicted == landscape_labels).sum().item()\n",
        "\n",
        "    test_loss=running_loss/len(test_loader)\n",
        "    accu=100.*correct/total\n",
        "\n",
        "    eval_losses.append(test_loss)\n",
        "    eval_accu.append(accu)\n",
        "\n",
        "    print('Test Loss: %.3f | Accuracy: %.3f'%(test_loss,accu))\n"
      ]
    },
    {
      "cell_type": "code",
      "execution_count": 32,
      "id": "0128f43d-7956-44bf-a626-9fbc5c85db11",
      "metadata": {
        "colab": {
          "base_uri": "https://localhost:8080/"
        },
        "id": "0128f43d-7956-44bf-a626-9fbc5c85db11",
        "outputId": "816eb052-9498-4d4d-af2e-8ebcbef448d9"
      },
      "outputs": [
        {
          "output_type": "stream",
          "name": "stdout",
          "text": [
            "Epoch : 1\n"
          ]
        },
        {
          "output_type": "stream",
          "name": "stderr",
          "text": [
            "100%|██████████| 675/675 [00:35<00:00, 18.78it/s]\n"
          ]
        },
        {
          "output_type": "stream",
          "name": "stdout",
          "text": [
            "Train Loss: 2.016 | Accuracy: 28.009\n"
          ]
        },
        {
          "output_type": "stream",
          "name": "stderr",
          "text": [
            "100%|██████████| 675/675 [00:18<00:00, 36.18it/s]\n"
          ]
        },
        {
          "output_type": "stream",
          "name": "stdout",
          "text": [
            "Test Loss: 7.018 | Accuracy: 32.324\n",
            "Epoch : 2\n"
          ]
        },
        {
          "output_type": "stream",
          "name": "stderr",
          "text": [
            "100%|██████████| 675/675 [00:36<00:00, 18.52it/s]\n"
          ]
        },
        {
          "output_type": "stream",
          "name": "stdout",
          "text": [
            "Train Loss: 1.660 | Accuracy: 37.532\n"
          ]
        },
        {
          "output_type": "stream",
          "name": "stderr",
          "text": [
            "100%|██████████| 675/675 [00:18<00:00, 36.20it/s]\n"
          ]
        },
        {
          "output_type": "stream",
          "name": "stdout",
          "text": [
            "Test Loss: 6.404 | Accuracy: 39.569\n",
            "Epoch : 3\n"
          ]
        },
        {
          "output_type": "stream",
          "name": "stderr",
          "text": [
            "100%|██████████| 675/675 [00:36<00:00, 18.64it/s]\n"
          ]
        },
        {
          "output_type": "stream",
          "name": "stdout",
          "text": [
            "Train Loss: 1.577 | Accuracy: 42.019\n"
          ]
        },
        {
          "output_type": "stream",
          "name": "stderr",
          "text": [
            "100%|██████████| 675/675 [00:19<00:00, 35.06it/s]\n"
          ]
        },
        {
          "output_type": "stream",
          "name": "stdout",
          "text": [
            "Test Loss: 6.244 | Accuracy: 43.523\n",
            "Epoch : 4\n"
          ]
        },
        {
          "output_type": "stream",
          "name": "stderr",
          "text": [
            "100%|██████████| 675/675 [00:35<00:00, 18.77it/s]\n"
          ]
        },
        {
          "output_type": "stream",
          "name": "stdout",
          "text": [
            "Train Loss: 1.583 | Accuracy: 42.282\n"
          ]
        },
        {
          "output_type": "stream",
          "name": "stderr",
          "text": [
            "100%|██████████| 675/675 [00:18<00:00, 36.62it/s]\n"
          ]
        },
        {
          "output_type": "stream",
          "name": "stdout",
          "text": [
            "Test Loss: 6.192 | Accuracy: 42.560\n",
            "Epoch : 5\n"
          ]
        },
        {
          "output_type": "stream",
          "name": "stderr",
          "text": [
            "100%|██████████| 675/675 [00:35<00:00, 18.91it/s]\n"
          ]
        },
        {
          "output_type": "stream",
          "name": "stdout",
          "text": [
            "Train Loss: 1.594 | Accuracy: 41.847\n"
          ]
        },
        {
          "output_type": "stream",
          "name": "stderr",
          "text": [
            "100%|██████████| 675/675 [00:18<00:00, 36.39it/s]\n"
          ]
        },
        {
          "output_type": "stream",
          "name": "stdout",
          "text": [
            "Test Loss: 6.157 | Accuracy: 42.301\n",
            "Epoch : 6\n"
          ]
        },
        {
          "output_type": "stream",
          "name": "stderr",
          "text": [
            "100%|██████████| 675/675 [00:35<00:00, 18.78it/s]\n"
          ]
        },
        {
          "output_type": "stream",
          "name": "stdout",
          "text": [
            "Train Loss: 1.509 | Accuracy: 44.569\n"
          ]
        },
        {
          "output_type": "stream",
          "name": "stderr",
          "text": [
            "100%|██████████| 675/675 [00:18<00:00, 36.50it/s]\n"
          ]
        },
        {
          "output_type": "stream",
          "name": "stdout",
          "text": [
            "Test Loss: 5.831 | Accuracy: 45.190\n",
            "Epoch : 7\n"
          ]
        },
        {
          "output_type": "stream",
          "name": "stderr",
          "text": [
            "100%|██████████| 675/675 [00:35<00:00, 18.78it/s]\n"
          ]
        },
        {
          "output_type": "stream",
          "name": "stdout",
          "text": [
            "Train Loss: 1.419 | Accuracy: 47.472\n"
          ]
        },
        {
          "output_type": "stream",
          "name": "stderr",
          "text": [
            "100%|██████████| 675/675 [00:19<00:00, 35.43it/s]\n"
          ]
        },
        {
          "output_type": "stream",
          "name": "stdout",
          "text": [
            "Test Loss: 5.481 | Accuracy: 50.662\n",
            "Epoch : 8\n"
          ]
        },
        {
          "output_type": "stream",
          "name": "stderr",
          "text": [
            "100%|██████████| 675/675 [00:35<00:00, 18.80it/s]\n"
          ]
        },
        {
          "output_type": "stream",
          "name": "stdout",
          "text": [
            "Train Loss: 1.371 | Accuracy: 49.741\n"
          ]
        },
        {
          "output_type": "stream",
          "name": "stderr",
          "text": [
            "100%|██████████| 675/675 [00:18<00:00, 36.50it/s]\n"
          ]
        },
        {
          "output_type": "stream",
          "name": "stdout",
          "text": [
            "Test Loss: 5.374 | Accuracy: 50.366\n",
            "Epoch : 9\n"
          ]
        },
        {
          "output_type": "stream",
          "name": "stderr",
          "text": [
            "100%|██████████| 675/675 [00:35<00:00, 18.81it/s]\n"
          ]
        },
        {
          "output_type": "stream",
          "name": "stdout",
          "text": [
            "Train Loss: 1.381 | Accuracy: 49.306\n"
          ]
        },
        {
          "output_type": "stream",
          "name": "stderr",
          "text": [
            "100%|██████████| 675/675 [00:18<00:00, 36.42it/s]\n"
          ]
        },
        {
          "output_type": "stream",
          "name": "stdout",
          "text": [
            "Test Loss: 6.195 | Accuracy: 41.884\n",
            "Epoch : 10\n"
          ]
        },
        {
          "output_type": "stream",
          "name": "stderr",
          "text": [
            "100%|██████████| 675/675 [00:35<00:00, 18.80it/s]\n"
          ]
        },
        {
          "output_type": "stream",
          "name": "stdout",
          "text": [
            "Train Loss: 1.448 | Accuracy: 46.889\n"
          ]
        },
        {
          "output_type": "stream",
          "name": "stderr",
          "text": [
            "100%|██████████| 675/675 [00:18<00:00, 36.14it/s]\n"
          ]
        },
        {
          "output_type": "stream",
          "name": "stdout",
          "text": [
            "Test Loss: 5.514 | Accuracy: 49.204\n",
            "Epoch : 11\n"
          ]
        },
        {
          "output_type": "stream",
          "name": "stderr",
          "text": [
            "100%|██████████| 675/675 [00:35<00:00, 18.89it/s]\n"
          ]
        },
        {
          "output_type": "stream",
          "name": "stdout",
          "text": [
            "Train Loss: 1.363 | Accuracy: 49.940\n"
          ]
        },
        {
          "output_type": "stream",
          "name": "stderr",
          "text": [
            "100%|██████████| 675/675 [00:18<00:00, 36.42it/s]\n"
          ]
        },
        {
          "output_type": "stream",
          "name": "stdout",
          "text": [
            "Test Loss: 5.442 | Accuracy: 50.370\n",
            "Epoch : 12\n"
          ]
        },
        {
          "output_type": "stream",
          "name": "stderr",
          "text": [
            "100%|██████████| 675/675 [00:35<00:00, 18.81it/s]\n"
          ]
        },
        {
          "output_type": "stream",
          "name": "stdout",
          "text": [
            "Train Loss: 1.326 | Accuracy: 51.296\n"
          ]
        },
        {
          "output_type": "stream",
          "name": "stderr",
          "text": [
            "100%|██████████| 675/675 [00:18<00:00, 36.36it/s]\n"
          ]
        },
        {
          "output_type": "stream",
          "name": "stdout",
          "text": [
            "Test Loss: 5.374 | Accuracy: 50.079\n",
            "Epoch : 13\n"
          ]
        },
        {
          "output_type": "stream",
          "name": "stderr",
          "text": [
            "100%|██████████| 675/675 [00:35<00:00, 18.96it/s]\n"
          ]
        },
        {
          "output_type": "stream",
          "name": "stdout",
          "text": [
            "Train Loss: 1.367 | Accuracy: 49.718\n"
          ]
        },
        {
          "output_type": "stream",
          "name": "stderr",
          "text": [
            "100%|██████████| 675/675 [00:18<00:00, 36.14it/s]\n"
          ]
        },
        {
          "output_type": "stream",
          "name": "stdout",
          "text": [
            "Test Loss: 5.355 | Accuracy: 50.963\n",
            "Epoch : 14\n"
          ]
        },
        {
          "output_type": "stream",
          "name": "stderr",
          "text": [
            "100%|██████████| 675/675 [00:36<00:00, 18.58it/s]\n"
          ]
        },
        {
          "output_type": "stream",
          "name": "stdout",
          "text": [
            "Train Loss: 1.327 | Accuracy: 50.898\n"
          ]
        },
        {
          "output_type": "stream",
          "name": "stderr",
          "text": [
            "100%|██████████| 675/675 [00:18<00:00, 36.04it/s]\n"
          ]
        },
        {
          "output_type": "stream",
          "name": "stdout",
          "text": [
            "Test Loss: 5.185 | Accuracy: 51.870\n",
            "Epoch : 15\n"
          ]
        },
        {
          "output_type": "stream",
          "name": "stderr",
          "text": [
            "100%|██████████| 675/675 [00:35<00:00, 18.89it/s]\n"
          ]
        },
        {
          "output_type": "stream",
          "name": "stdout",
          "text": [
            "Train Loss: 1.303 | Accuracy: 51.694\n"
          ]
        },
        {
          "output_type": "stream",
          "name": "stderr",
          "text": [
            "100%|██████████| 675/675 [00:18<00:00, 36.57it/s]\n"
          ]
        },
        {
          "output_type": "stream",
          "name": "stdout",
          "text": [
            "Test Loss: 5.078 | Accuracy: 53.931\n",
            "Epoch : 16\n"
          ]
        },
        {
          "output_type": "stream",
          "name": "stderr",
          "text": [
            "100%|██████████| 675/675 [00:36<00:00, 18.69it/s]\n"
          ]
        },
        {
          "output_type": "stream",
          "name": "stdout",
          "text": [
            "Train Loss: 1.292 | Accuracy: 52.157\n"
          ]
        },
        {
          "output_type": "stream",
          "name": "stderr",
          "text": [
            "100%|██████████| 675/675 [00:18<00:00, 36.53it/s]\n"
          ]
        },
        {
          "output_type": "stream",
          "name": "stdout",
          "text": [
            "Test Loss: 5.090 | Accuracy: 52.255\n",
            "Epoch : 17\n"
          ]
        },
        {
          "output_type": "stream",
          "name": "stderr",
          "text": [
            "100%|██████████| 675/675 [00:35<00:00, 18.86it/s]\n"
          ]
        },
        {
          "output_type": "stream",
          "name": "stdout",
          "text": [
            "Train Loss: 1.261 | Accuracy: 53.403\n"
          ]
        },
        {
          "output_type": "stream",
          "name": "stderr",
          "text": [
            "100%|██████████| 675/675 [00:18<00:00, 36.32it/s]\n"
          ]
        },
        {
          "output_type": "stream",
          "name": "stdout",
          "text": [
            "Test Loss: 5.016 | Accuracy: 54.046\n",
            "Epoch : 18\n"
          ]
        },
        {
          "output_type": "stream",
          "name": "stderr",
          "text": [
            "100%|██████████| 675/675 [00:36<00:00, 18.68it/s]\n"
          ]
        },
        {
          "output_type": "stream",
          "name": "stdout",
          "text": [
            "Train Loss: 1.253 | Accuracy: 53.750\n"
          ]
        },
        {
          "output_type": "stream",
          "name": "stderr",
          "text": [
            "100%|██████████| 675/675 [00:18<00:00, 36.69it/s]\n"
          ]
        },
        {
          "output_type": "stream",
          "name": "stdout",
          "text": [
            "Test Loss: 4.866 | Accuracy: 55.472\n",
            "Epoch : 19\n"
          ]
        },
        {
          "output_type": "stream",
          "name": "stderr",
          "text": [
            "100%|██████████| 675/675 [00:35<00:00, 18.95it/s]\n"
          ]
        },
        {
          "output_type": "stream",
          "name": "stdout",
          "text": [
            "Train Loss: 1.298 | Accuracy: 52.208\n"
          ]
        },
        {
          "output_type": "stream",
          "name": "stderr",
          "text": [
            "100%|██████████| 675/675 [00:18<00:00, 36.07it/s]\n"
          ]
        },
        {
          "output_type": "stream",
          "name": "stdout",
          "text": [
            "Test Loss: 5.336 | Accuracy: 51.245\n",
            "Epoch : 20\n"
          ]
        },
        {
          "output_type": "stream",
          "name": "stderr",
          "text": [
            "100%|██████████| 675/675 [00:36<00:00, 18.66it/s]\n"
          ]
        },
        {
          "output_type": "stream",
          "name": "stdout",
          "text": [
            "Train Loss: 1.311 | Accuracy: 51.741\n"
          ]
        },
        {
          "output_type": "stream",
          "name": "stderr",
          "text": [
            "100%|██████████| 675/675 [00:18<00:00, 36.51it/s]\n"
          ]
        },
        {
          "output_type": "stream",
          "name": "stdout",
          "text": [
            "Test Loss: 4.984 | Accuracy: 54.051\n",
            "Epoch : 21\n"
          ]
        },
        {
          "output_type": "stream",
          "name": "stderr",
          "text": [
            "100%|██████████| 675/675 [00:36<00:00, 18.74it/s]\n"
          ]
        },
        {
          "output_type": "stream",
          "name": "stdout",
          "text": [
            "Train Loss: 1.288 | Accuracy: 52.380\n"
          ]
        },
        {
          "output_type": "stream",
          "name": "stderr",
          "text": [
            "100%|██████████| 675/675 [00:18<00:00, 36.08it/s]\n"
          ]
        },
        {
          "output_type": "stream",
          "name": "stdout",
          "text": [
            "Test Loss: 5.015 | Accuracy: 54.227\n",
            "Epoch : 22\n"
          ]
        },
        {
          "output_type": "stream",
          "name": "stderr",
          "text": [
            "100%|██████████| 675/675 [00:36<00:00, 18.73it/s]\n"
          ]
        },
        {
          "output_type": "stream",
          "name": "stdout",
          "text": [
            "Train Loss: 1.293 | Accuracy: 52.602\n"
          ]
        },
        {
          "output_type": "stream",
          "name": "stderr",
          "text": [
            "100%|██████████| 675/675 [00:18<00:00, 36.26it/s]\n"
          ]
        },
        {
          "output_type": "stream",
          "name": "stdout",
          "text": [
            "Test Loss: 4.919 | Accuracy: 54.787\n",
            "Epoch : 23\n"
          ]
        },
        {
          "output_type": "stream",
          "name": "stderr",
          "text": [
            "100%|██████████| 675/675 [00:35<00:00, 18.81it/s]\n"
          ]
        },
        {
          "output_type": "stream",
          "name": "stdout",
          "text": [
            "Train Loss: 1.368 | Accuracy: 50.532\n"
          ]
        },
        {
          "output_type": "stream",
          "name": "stderr",
          "text": [
            "100%|██████████| 675/675 [00:18<00:00, 36.31it/s]\n"
          ]
        },
        {
          "output_type": "stream",
          "name": "stdout",
          "text": [
            "Test Loss: 5.272 | Accuracy: 52.009\n",
            "Epoch : 24\n"
          ]
        },
        {
          "output_type": "stream",
          "name": "stderr",
          "text": [
            "100%|██████████| 675/675 [00:36<00:00, 18.68it/s]\n"
          ]
        },
        {
          "output_type": "stream",
          "name": "stdout",
          "text": [
            "Train Loss: 1.258 | Accuracy: 53.384\n"
          ]
        },
        {
          "output_type": "stream",
          "name": "stderr",
          "text": [
            "100%|██████████| 675/675 [00:18<00:00, 36.48it/s]\n"
          ]
        },
        {
          "output_type": "stream",
          "name": "stdout",
          "text": [
            "Test Loss: 4.941 | Accuracy: 53.847\n",
            "Epoch : 25\n"
          ]
        },
        {
          "output_type": "stream",
          "name": "stderr",
          "text": [
            "100%|██████████| 675/675 [00:35<00:00, 18.88it/s]\n"
          ]
        },
        {
          "output_type": "stream",
          "name": "stdout",
          "text": [
            "Train Loss: 1.230 | Accuracy: 54.407\n"
          ]
        },
        {
          "output_type": "stream",
          "name": "stderr",
          "text": [
            "100%|██████████| 675/675 [00:18<00:00, 36.16it/s]\n"
          ]
        },
        {
          "output_type": "stream",
          "name": "stdout",
          "text": [
            "Test Loss: 4.907 | Accuracy: 54.495\n",
            "Epoch : 26\n"
          ]
        },
        {
          "output_type": "stream",
          "name": "stderr",
          "text": [
            "100%|██████████| 675/675 [00:36<00:00, 18.69it/s]\n"
          ]
        },
        {
          "output_type": "stream",
          "name": "stdout",
          "text": [
            "Train Loss: 1.317 | Accuracy: 51.833\n"
          ]
        },
        {
          "output_type": "stream",
          "name": "stderr",
          "text": [
            "100%|██████████| 675/675 [00:18<00:00, 36.90it/s]\n"
          ]
        },
        {
          "output_type": "stream",
          "name": "stdout",
          "text": [
            "Test Loss: 5.185 | Accuracy: 51.856\n",
            "Epoch : 27\n"
          ]
        },
        {
          "output_type": "stream",
          "name": "stderr",
          "text": [
            "100%|██████████| 675/675 [00:35<00:00, 18.90it/s]\n"
          ]
        },
        {
          "output_type": "stream",
          "name": "stdout",
          "text": [
            "Train Loss: 1.261 | Accuracy: 53.546\n"
          ]
        },
        {
          "output_type": "stream",
          "name": "stderr",
          "text": [
            "100%|██████████| 675/675 [00:18<00:00, 36.82it/s]\n"
          ]
        },
        {
          "output_type": "stream",
          "name": "stdout",
          "text": [
            "Test Loss: 4.867 | Accuracy: 54.556\n",
            "Epoch : 28\n"
          ]
        },
        {
          "output_type": "stream",
          "name": "stderr",
          "text": [
            "100%|██████████| 675/675 [00:36<00:00, 18.63it/s]\n"
          ]
        },
        {
          "output_type": "stream",
          "name": "stdout",
          "text": [
            "Train Loss: 1.260 | Accuracy: 53.569\n"
          ]
        },
        {
          "output_type": "stream",
          "name": "stderr",
          "text": [
            "100%|██████████| 675/675 [00:18<00:00, 36.42it/s]\n"
          ]
        },
        {
          "output_type": "stream",
          "name": "stdout",
          "text": [
            "Test Loss: 4.828 | Accuracy: 55.157\n",
            "Epoch : 29\n"
          ]
        },
        {
          "output_type": "stream",
          "name": "stderr",
          "text": [
            "100%|██████████| 675/675 [00:35<00:00, 18.80it/s]\n"
          ]
        },
        {
          "output_type": "stream",
          "name": "stdout",
          "text": [
            "Train Loss: 1.222 | Accuracy: 54.630\n"
          ]
        },
        {
          "output_type": "stream",
          "name": "stderr",
          "text": [
            "100%|██████████| 675/675 [00:18<00:00, 36.47it/s]\n"
          ]
        },
        {
          "output_type": "stream",
          "name": "stdout",
          "text": [
            "Test Loss: 4.808 | Accuracy: 55.440\n",
            "Epoch : 30\n"
          ]
        },
        {
          "output_type": "stream",
          "name": "stderr",
          "text": [
            "100%|██████████| 675/675 [00:36<00:00, 18.73it/s]\n"
          ]
        },
        {
          "output_type": "stream",
          "name": "stdout",
          "text": [
            "Train Loss: 1.214 | Accuracy: 54.889\n"
          ]
        },
        {
          "output_type": "stream",
          "name": "stderr",
          "text": [
            "100%|██████████| 675/675 [00:18<00:00, 36.85it/s]\n"
          ]
        },
        {
          "output_type": "stream",
          "name": "stdout",
          "text": [
            "Test Loss: 4.740 | Accuracy: 56.125\n",
            "Training time: 1684.37 seconds\n"
          ]
        }
      ],
      "source": [
        "epochs = 30\n",
        "\n",
        "# Start the timer\n",
        "output_dir = '/content/drive/MyDrive/Master_Thesis'\n",
        "if not os.path.exists(output_dir):\n",
        "    os.makedirs(output_dir)\n",
        "\n",
        "start_time = time.time()\n",
        "for epoch in range(1,epochs+1):\n",
        "    train(epoch)\n",
        "    # Save the model after training\n",
        "    torch.save(model.state_dict(), os.path.join(output_dir, f'base_model_train_epoch_{epoch}.pth'))\n",
        "    test(epoch)\n",
        "    # Save the model after testing\n",
        "    torch.save(model.state_dict(), os.path.join(output_dir, f'base_model_test_epoch_{epoch}.pth'))\n",
        "# End the timer\n",
        "end_time = time.time()\n",
        "\n",
        "# Calculate the training time\n",
        "training_time = end_time - start_time\n",
        "\n",
        "print('Training time: {:.2f} seconds'.format(training_time))"
      ]
    },
    {
      "cell_type": "code",
      "execution_count": 35,
      "id": "3rPYo9ToySXm",
      "metadata": {
        "id": "3rPYo9ToySXm"
      },
      "outputs": [],
      "source": [
        "# Path to the saved model file\n",
        "epoch_to_load = 10  # specify the epoch you are interested in\n",
        "phase = 'train'  # can be 'train' or 'test' depending on what you want to load\n",
        "\n",
        "checkpoint_path = f'model_outputs_base/base_model_{phase}_epoch_{epoch_to_load}.pth'\n",
        "\n",
        "# Load the saved state dictionary into the model\n",
        "#model.load_state_dict(torch.load(checkpoint_path))"
      ]
    },
    {
      "cell_type": "code",
      "execution_count": 36,
      "id": "e79aee15-6c1e-46c4-b3b6-60ab96f8407d",
      "metadata": {
        "id": "e79aee15-6c1e-46c4-b3b6-60ab96f8407d",
        "colab": {
          "base_uri": "https://localhost:8080/",
          "height": 472
        },
        "outputId": "b9a62873-0bdb-4f8d-b8f9-ec1c4e1912a2"
      },
      "outputs": [
        {
          "output_type": "display_data",
          "data": {
            "text/plain": [
              "<Figure size 640x480 with 1 Axes>"
            ],
            "image/png": "[encoded data removed]"
          },
          "metadata": {}
        }
      ],
      "source": [
        "#plot accuracy\n",
        "plt.plot(train_accu,'-o')\n",
        "plt.plot(eval_accu,'-o')\n",
        "plt.xlabel('epoch')\n",
        "plt.ylabel('accuracy')\n",
        "plt.legend(['Train','Valid'])\n",
        "plt.title('Train vs Valid Accuracy')\n",
        "\n",
        "plt.show()"
      ]
    },
    {
      "cell_type": "code",
      "execution_count": 37,
      "id": "67ef4d04-8bab-4727-995e-9daf0be9dcc1",
      "metadata": {
        "id": "67ef4d04-8bab-4727-995e-9daf0be9dcc1",
        "colab": {
          "base_uri": "https://localhost:8080/",
          "height": 472
        },
        "outputId": "82856c34-f144-4e90-b835-ba7b1892a868"
      },
      "outputs": [
        {
          "output_type": "display_data",
          "data": {
            "text/plain": [
              "<Figure size 640x480 with 1 Axes>"
            ],
            "image/png": "[encoded data removed]"
          },
          "metadata": {}
        }
      ],
      "source": [
        "#plot losses\n",
        "\n",
        "plt.plot(train_losses,'-o')\n",
        "plt.plot(eval_losses,'-o')\n",
        "plt.xlabel('epoch')\n",
        "plt.ylabel('losses')\n",
        "plt.legend(['Train','Valid'])\n",
        "plt.title('Train vs Valid Losses')\n",
        "\n",
        "plt.show()"
      ]
    },
    {
      "cell_type": "code",
      "execution_count": 38,
      "id": "da1c251b-562c-4e02-9e09-27c448bacc88",
      "metadata": {
        "colab": {
          "base_uri": "https://localhost:8080/"
        },
        "id": "da1c251b-562c-4e02-9e09-27c448bacc88",
        "outputId": "415a1f83-80b0-4dd9-b863-93da5a642b8f"
      },
      "outputs": [
        {
          "output_type": "stream",
          "name": "stderr",
          "text": [
            "100%|██████████| 169/169 [00:04<00:00, 39.51it/s]"
          ]
        },
        {
          "output_type": "stream",
          "name": "stdout",
          "text": [
            "Precision:  0.6172759420387631\n",
            "Recall:  0.5544666666666667\n",
            "Confusion matrix:\n",
            " [[371   6  17  33  18  11  78  63   2   1]\n",
            " [ 34 290   2   6   7   1  75 171   1  13]\n",
            " [ 63  19 242  25  12  27  68 113  20  11]\n",
            " [118  25  17 130  31  21  41  98  18   1]\n",
            " [ 70   2   1  20 267   1  16 108  12   3]\n",
            " [ 79  20   9  11   8 174  55  36   7   1]\n",
            " [115   3  16  20   4  14 240  85   1   2]\n",
            " [ 28  10   2  21  24   4  93 403   4  11]\n",
            " [ 31   2   2  32  21   3   2  20 357  30]\n",
            " [  0   4   0   0   3   0   0  11  15 567]]\n",
            "Report:\n",
            "               precision    recall  f1-score   support\n",
            "\n",
            "           0       0.41      0.62      0.49       600\n",
            "           1       0.76      0.48      0.59       600\n",
            "           2       0.79      0.40      0.53       600\n",
            "           3       0.44      0.26      0.33       500\n",
            "           4       0.68      0.53      0.60       500\n",
            "           5       0.68      0.43      0.53       400\n",
            "           6       0.36      0.48      0.41       500\n",
            "           7       0.36      0.67      0.47       600\n",
            "           8       0.82      0.71      0.76       500\n",
            "           9       0.89      0.94      0.91       600\n",
            "\n",
            "    accuracy                           0.56      5400\n",
            "   macro avg       0.62      0.55      0.56      5400\n",
            "weighted avg       0.62      0.56      0.57      5400\n",
            "\n"
          ]
        },
        {
          "output_type": "stream",
          "name": "stderr",
          "text": [
            "\n"
          ]
        }
      ],
      "source": [
        "from sklearn.metrics import confusion_matrix ,classification_report, precision_score, recall_score\n",
        "\n",
        "# testing\n",
        "ttloss = []\n",
        "ttacc = []\n",
        "ttf1 = []\n",
        "\n",
        "T_val = []\n",
        "P_val = []\n",
        "\n",
        "with torch.no_grad():\n",
        "    model.eval()\n",
        "    for X_val, y_val, _ in tqdm(test_loader):\n",
        "        X_val = X_val.float().cuda()\n",
        "        X_val, y_val = X_val.to(device), y_val.to(device)\n",
        "        #y_val = y_val.type(torch.cuda.LongTensor)\n",
        "\n",
        "        output = model(X_val)\n",
        "        #print(output.shape)\n",
        "\n",
        "        outputs = torch.max(output, dim=1)[1]\n",
        "        #print(outputs.shape)\n",
        "        T_val.extend(y_val.cpu().numpy())\n",
        "        #print(T_val)\n",
        "        P_val.extend(outputs.cpu().numpy())\n",
        "    #print(T_val)\n",
        "    #print(P_val)\n",
        "    precision = precision_score(T_val, P_val, average='macro')\n",
        "    recall = recall_score(T_val, P_val, average='macro')\n",
        "    res = confusion_matrix(T_val, P_val)\n",
        "    report = classification_report(T_val, P_val)\n",
        "\n",
        "    print(\"Precision: \",precision)\n",
        "    print(\"Recall: \",recall)\n",
        "\n",
        "    print('Confusion matrix:\\n',res)\n",
        "    print('Report:\\n',report)\n",
        "\n",
        "\n",
        "# with torch.no_grad():\n",
        "#     model.eval()\n",
        "#     for id, (X_val, y_val) in enumerate(val_data):\n",
        "#         X_val, y_val = X_val.to(device), y_val.to(device)\n",
        "#         y_val = y_val.type(torch.cuda.LongTensor)\n",
        "\n",
        "#         output = model(X_val)\n",
        "#         outputs = torch.max(output, dim=1)[1]\n",
        "#         T_val.extend(y_val.cpu().numpy())\n",
        "#         P_val.extend(outputs.cpu().numpy())\n",
        "#     print(T_val)\n",
        "#     print(P_val)\n",
        "#     precision = precision_score(T_val, P_val, average='macro')\n",
        "#     recall = recall_score(T_val, P_val, average='macro')\n",
        "#     res = confusion_matrix(T_val, P_val)\n",
        "#     report = classification_report(T_val, P_val)\n",
        "\n",
        "#     print(\"Precision: \",precision)\n",
        "#     print(\"Recall: \",recall)\n",
        "\n",
        "#     print('Confusion matrix:\\n',res)\n",
        "#     print('Report:\\n',report)"
      ]
    },
    {
      "cell_type": "code",
      "execution_count": 39,
      "id": "yiBXXag3G5ky",
      "metadata": {
        "colab": {
          "base_uri": "https://localhost:8080/"
        },
        "id": "yiBXXag3G5ky",
        "outputId": "8abe5764-8a11-47b4-d0e3-8d57d1b3cea6"
      },
      "outputs": [
        {
          "output_type": "stream",
          "name": "stderr",
          "text": [
            "100%|██████████| 675/675 [00:31<00:00, 21.15it/s]\n",
            "100%|██████████| 169/169 [00:04<00:00, 37.33it/s]\n"
          ]
        },
        {
          "output_type": "stream",
          "name": "stdout",
          "text": [
            "Epoch [1/10], Loss: 1.6463, Accuracy: 53.50%\n"
          ]
        },
        {
          "output_type": "stream",
          "name": "stderr",
          "text": [
            "100%|██████████| 675/675 [00:31<00:00, 21.28it/s]\n",
            "100%|██████████| 169/169 [00:04<00:00, 37.92it/s]\n"
          ]
        },
        {
          "output_type": "stream",
          "name": "stdout",
          "text": [
            "Epoch [2/10], Loss: 1.1108, Accuracy: 55.69%\n"
          ]
        },
        {
          "output_type": "stream",
          "name": "stderr",
          "text": [
            "100%|██████████| 675/675 [00:32<00:00, 20.99it/s]\n",
            "100%|██████████| 169/169 [00:04<00:00, 39.18it/s]\n"
          ]
        },
        {
          "output_type": "stream",
          "name": "stdout",
          "text": [
            "Epoch [3/10], Loss: 1.2576, Accuracy: 57.43%\n"
          ]
        },
        {
          "output_type": "stream",
          "name": "stderr",
          "text": [
            "100%|██████████| 675/675 [00:32<00:00, 20.52it/s]\n",
            "100%|██████████| 169/169 [00:04<00:00, 39.83it/s]\n"
          ]
        },
        {
          "output_type": "stream",
          "name": "stdout",
          "text": [
            "Epoch [4/10], Loss: 1.5955, Accuracy: 51.74%\n"
          ]
        },
        {
          "output_type": "stream",
          "name": "stderr",
          "text": [
            "100%|██████████| 675/675 [00:32<00:00, 21.06it/s]\n",
            "100%|██████████| 169/169 [00:04<00:00, 40.00it/s]\n"
          ]
        },
        {
          "output_type": "stream",
          "name": "stdout",
          "text": [
            "Epoch [5/10], Loss: 1.0705, Accuracy: 56.43%\n"
          ]
        },
        {
          "output_type": "stream",
          "name": "stderr",
          "text": [
            "100%|██████████| 675/675 [00:32<00:00, 20.86it/s]\n",
            "100%|██████████| 169/169 [00:04<00:00, 40.39it/s]\n"
          ]
        },
        {
          "output_type": "stream",
          "name": "stdout",
          "text": [
            "Epoch [6/10], Loss: 1.4788, Accuracy: 55.09%\n"
          ]
        },
        {
          "output_type": "stream",
          "name": "stderr",
          "text": [
            "100%|██████████| 675/675 [00:31<00:00, 21.17it/s]\n",
            "100%|██████████| 169/169 [00:04<00:00, 39.74it/s]\n"
          ]
        },
        {
          "output_type": "stream",
          "name": "stdout",
          "text": [
            "Epoch [7/10], Loss: 1.3346, Accuracy: 55.78%\n"
          ]
        },
        {
          "output_type": "stream",
          "name": "stderr",
          "text": [
            "100%|██████████| 675/675 [00:32<00:00, 21.09it/s]\n",
            "100%|██████████| 169/169 [00:04<00:00, 38.51it/s]\n"
          ]
        },
        {
          "output_type": "stream",
          "name": "stdout",
          "text": [
            "Epoch [8/10], Loss: 1.5513, Accuracy: 55.22%\n"
          ]
        },
        {
          "output_type": "stream",
          "name": "stderr",
          "text": [
            "100%|██████████| 675/675 [00:32<00:00, 20.90it/s]\n",
            "100%|██████████| 169/169 [00:04<00:00, 39.51it/s]\n"
          ]
        },
        {
          "output_type": "stream",
          "name": "stdout",
          "text": [
            "Epoch [9/10], Loss: 1.1856, Accuracy: 57.72%\n"
          ]
        },
        {
          "output_type": "stream",
          "name": "stderr",
          "text": [
            "100%|██████████| 675/675 [00:31<00:00, 21.16it/s]\n",
            "100%|██████████| 169/169 [00:04<00:00, 39.44it/s]"
          ]
        },
        {
          "output_type": "stream",
          "name": "stdout",
          "text": [
            "Epoch [10/10], Loss: 1.1013, Accuracy: 56.44%\n"
          ]
        },
        {
          "output_type": "stream",
          "name": "stderr",
          "text": [
            "\n"
          ]
        }
      ],
      "source": [
        "# Assuming 'device' is defined as 'cuda' if a GPU is available, otherwise 'cpu'\n",
        "device = torch.device(\"cuda\" if torch.cuda.is_available() else \"cpu\")\n",
        "model = model.to(device)\n",
        "criterion = criterion.to(device)\n",
        "\n",
        "# Train the model\n",
        "for epoch in range(num_epochs):\n",
        "    for images, landscape_labels, _ in tqdm(train_loader):\n",
        "        # Transfer images and labels to the appropriate device\n",
        "        images = images.to(device, dtype=torch.float)\n",
        "        landscape_labels = landscape_labels.to(device, dtype=torch.long)  # Assuming labels are used for indexing, they should be long\n",
        "\n",
        "        # Forward pass\n",
        "        outputs = model(images)\n",
        "\n",
        "        # Preparing labels for loss calculation (assuming cross-entropy loss which expects class indices as labels)\n",
        "        # Assuming landscape_labels are class indices. If not, you need to preprocess them accordingly.\n",
        "\n",
        "        # Calculate loss\n",
        "        loss = criterion(outputs, landscape_labels)\n",
        "\n",
        "        # Backward and optimize\n",
        "        optimizer.zero_grad()\n",
        "        loss.backward()\n",
        "        optimizer.step()\n",
        "\n",
        "    # Test the model\n",
        "    model.eval()\n",
        "    correct = 0\n",
        "    total = 0\n",
        "    with torch.no_grad():\n",
        "        for images, landscape_labels, _ in tqdm(test_loader):\n",
        "            images = images.to(device, dtype=torch.float)\n",
        "            landscape_labels = landscape_labels.to(device, dtype=torch.long)\n",
        "\n",
        "            outputs = model(images)\n",
        "            _, predicted = torch.max(outputs.data, 1)\n",
        "\n",
        "            total += landscape_labels.size(0)\n",
        "            correct += (predicted == landscape_labels).sum().item()\n",
        "\n",
        "    accuracy = 100 * correct / total\n",
        "    print(f'Epoch [{epoch+1}/{num_epochs}], Loss: {loss.item():.4f}, Accuracy: {accuracy:.2f}%')\n",
        "    model.train()\n",
        "\n"
      ]
    },
    {
      "cell_type": "markdown",
      "id": "wlhoLXu0vkbz",
      "metadata": {
        "id": "wlhoLXu0vkbz"
      },
      "source": [
        "#Watermark Detection ViT"
      ]
    },
    {
      "cell_type": "code",
      "execution_count": 40,
      "id": "qxTTnSdWvsI-",
      "metadata": {
        "id": "qxTTnSdWvsI-"
      },
      "outputs": [],
      "source": [
        "import torch\n",
        "import torch.nn as nn\n",
        "import torch.optim as optim\n",
        "from torch.utils.data import DataLoader\n",
        "\n",
        "class WatermarkDetectorCNN(nn.Module):\n",
        "    def __init__(self):\n",
        "        super(WatermarkDetectorCNN, self).__init__()\n",
        "        self.conv_layers = nn.Sequential(\n",
        "            nn.Conv2d(13, 32, kernel_size=3, padding=1),\n",
        "            nn.BatchNorm2d(32),\n",
        "            nn.ReLU(),\n",
        "            nn.MaxPool2d(2, 2),\n",
        "            nn.Conv2d(32, 64, kernel_size=3, padding=1),\n",
        "            nn.ReLU(),\n",
        "            nn.MaxPool2d(2, 2),\n",
        "            nn.Conv2d(64, 128, kernel_size=3, padding=1),\n",
        "            nn.ReLU(),\n",
        "            nn.MaxPool2d(2, 2)\n",
        "        )\n",
        "        # The feature map size depends on your input image size. Assuming an input size of (13, 64, 64),\n",
        "        # the output size here would be (128, 8, 8) after three rounds of max pooling (2, 2) starting from 64x64.\n",
        "        self.fc_layers = nn.Sequential(\n",
        "            nn.Linear(128 * 8 * 8, 512),  # 128 channels, each 8x8 from the last pooling\n",
        "            nn.ReLU(),\n",
        "            nn.Dropout(0.5),\n",
        "            nn.Linear(512, 2) # Output layer for binary classification\n",
        "        )\n",
        "    def forward(self, x):\n",
        "        x = self.conv_layers(x)\n",
        "        x = torch.flatten(x, start_dim=1)  # Flatten all dimensions except batch\n",
        "        x = self.fc_layers(x)\n",
        "        return x"
      ]
    },
    {
      "cell_type": "code",
      "execution_count": 41,
      "id": "T6AUIFaySuzb",
      "metadata": {
        "id": "T6AUIFaySuzb",
        "colab": {
          "base_uri": "https://localhost:8080/"
        },
        "outputId": "731cb529-52bb-487d-9152-0f6a1d6fee4a"
      },
      "outputs": [
        {
          "output_type": "stream",
          "name": "stderr",
          "text": [
            "100%|██████████| 675/675 [00:13<00:00, 50.19it/s]\n"
          ]
        },
        {
          "output_type": "stream",
          "name": "stdout",
          "text": [
            "Epoch [1/30], Loss: 0.0078\n"
          ]
        },
        {
          "output_type": "stream",
          "name": "stderr",
          "text": [
            "100%|██████████| 675/675 [00:13<00:00, 49.54it/s]\n"
          ]
        },
        {
          "output_type": "stream",
          "name": "stdout",
          "text": [
            "Epoch [2/30], Loss: 0.0028\n"
          ]
        },
        {
          "output_type": "stream",
          "name": "stderr",
          "text": [
            "100%|██████████| 675/675 [00:13<00:00, 51.06it/s]\n"
          ]
        },
        {
          "output_type": "stream",
          "name": "stdout",
          "text": [
            "Epoch [3/30], Loss: 0.0018\n"
          ]
        },
        {
          "output_type": "stream",
          "name": "stderr",
          "text": [
            "100%|██████████| 675/675 [00:13<00:00, 51.70it/s]\n"
          ]
        },
        {
          "output_type": "stream",
          "name": "stdout",
          "text": [
            "Epoch [4/30], Loss: 0.0003\n"
          ]
        },
        {
          "output_type": "stream",
          "name": "stderr",
          "text": [
            "100%|██████████| 675/675 [00:13<00:00, 51.85it/s]\n"
          ]
        },
        {
          "output_type": "stream",
          "name": "stdout",
          "text": [
            "Epoch [5/30], Loss: 0.0008\n"
          ]
        },
        {
          "output_type": "stream",
          "name": "stderr",
          "text": [
            "100%|██████████| 675/675 [00:13<00:00, 50.86it/s]\n"
          ]
        },
        {
          "output_type": "stream",
          "name": "stdout",
          "text": [
            "Epoch [6/30], Loss: 0.0000\n"
          ]
        },
        {
          "output_type": "stream",
          "name": "stderr",
          "text": [
            "100%|██████████| 675/675 [00:13<00:00, 50.44it/s]\n"
          ]
        },
        {
          "output_type": "stream",
          "name": "stdout",
          "text": [
            "Epoch [7/30], Loss: 0.0010\n"
          ]
        },
        {
          "output_type": "stream",
          "name": "stderr",
          "text": [
            "100%|██████████| 675/675 [00:13<00:00, 51.87it/s]\n"
          ]
        },
        {
          "output_type": "stream",
          "name": "stdout",
          "text": [
            "Epoch [8/30], Loss: 0.0000\n"
          ]
        },
        {
          "output_type": "stream",
          "name": "stderr",
          "text": [
            "100%|██████████| 675/675 [00:12<00:00, 52.14it/s]\n"
          ]
        },
        {
          "output_type": "stream",
          "name": "stdout",
          "text": [
            "Epoch [9/30], Loss: 0.0003\n"
          ]
        },
        {
          "output_type": "stream",
          "name": "stderr",
          "text": [
            "100%|██████████| 675/675 [00:13<00:00, 50.84it/s]\n"
          ]
        },
        {
          "output_type": "stream",
          "name": "stdout",
          "text": [
            "Epoch [10/30], Loss: 0.0014\n"
          ]
        },
        {
          "output_type": "stream",
          "name": "stderr",
          "text": [
            "100%|██████████| 675/675 [00:13<00:00, 50.75it/s]\n"
          ]
        },
        {
          "output_type": "stream",
          "name": "stdout",
          "text": [
            "Epoch [11/30], Loss: 0.0011\n"
          ]
        },
        {
          "output_type": "stream",
          "name": "stderr",
          "text": [
            "100%|██████████| 675/675 [00:13<00:00, 50.27it/s]\n"
          ]
        },
        {
          "output_type": "stream",
          "name": "stdout",
          "text": [
            "Epoch [12/30], Loss: 0.0009\n"
          ]
        },
        {
          "output_type": "stream",
          "name": "stderr",
          "text": [
            "100%|██████████| 675/675 [00:13<00:00, 51.90it/s]\n"
          ]
        },
        {
          "output_type": "stream",
          "name": "stdout",
          "text": [
            "Epoch [13/30], Loss: 0.0015\n"
          ]
        },
        {
          "output_type": "stream",
          "name": "stderr",
          "text": [
            "100%|██████████| 675/675 [00:13<00:00, 51.43it/s]\n"
          ]
        },
        {
          "output_type": "stream",
          "name": "stdout",
          "text": [
            "Epoch [14/30], Loss: 0.0000\n"
          ]
        },
        {
          "output_type": "stream",
          "name": "stderr",
          "text": [
            "100%|██████████| 675/675 [00:13<00:00, 51.12it/s]\n"
          ]
        },
        {
          "output_type": "stream",
          "name": "stdout",
          "text": [
            "Epoch [15/30], Loss: 0.0016\n"
          ]
        },
        {
          "output_type": "stream",
          "name": "stderr",
          "text": [
            "100%|██████████| 675/675 [00:13<00:00, 51.06it/s]\n"
          ]
        },
        {
          "output_type": "stream",
          "name": "stdout",
          "text": [
            "Epoch [16/30], Loss: 0.0020\n"
          ]
        },
        {
          "output_type": "stream",
          "name": "stderr",
          "text": [
            "100%|██████████| 675/675 [00:13<00:00, 50.70it/s]\n"
          ]
        },
        {
          "output_type": "stream",
          "name": "stdout",
          "text": [
            "Epoch [17/30], Loss: 0.0002\n"
          ]
        },
        {
          "output_type": "stream",
          "name": "stderr",
          "text": [
            "100%|██████████| 675/675 [00:13<00:00, 51.22it/s]\n"
          ]
        },
        {
          "output_type": "stream",
          "name": "stdout",
          "text": [
            "Epoch [18/30], Loss: 0.0006\n"
          ]
        },
        {
          "output_type": "stream",
          "name": "stderr",
          "text": [
            "100%|██████████| 675/675 [00:13<00:00, 50.17it/s]\n"
          ]
        },
        {
          "output_type": "stream",
          "name": "stdout",
          "text": [
            "Epoch [19/30], Loss: 0.0012\n"
          ]
        },
        {
          "output_type": "stream",
          "name": "stderr",
          "text": [
            "100%|██████████| 675/675 [00:13<00:00, 50.74it/s]\n"
          ]
        },
        {
          "output_type": "stream",
          "name": "stdout",
          "text": [
            "Epoch [20/30], Loss: 0.0005\n"
          ]
        },
        {
          "output_type": "stream",
          "name": "stderr",
          "text": [
            "100%|██████████| 675/675 [00:13<00:00, 51.81it/s]\n"
          ]
        },
        {
          "output_type": "stream",
          "name": "stdout",
          "text": [
            "Epoch [21/30], Loss: 0.0000\n"
          ]
        },
        {
          "output_type": "stream",
          "name": "stderr",
          "text": [
            "100%|██████████| 675/675 [00:13<00:00, 51.51it/s]\n"
          ]
        },
        {
          "output_type": "stream",
          "name": "stdout",
          "text": [
            "Epoch [22/30], Loss: 0.0000\n"
          ]
        },
        {
          "output_type": "stream",
          "name": "stderr",
          "text": [
            "100%|██████████| 675/675 [00:13<00:00, 51.53it/s]\n"
          ]
        },
        {
          "output_type": "stream",
          "name": "stdout",
          "text": [
            "Epoch [23/30], Loss: 0.0009\n"
          ]
        },
        {
          "output_type": "stream",
          "name": "stderr",
          "text": [
            "100%|██████████| 675/675 [00:13<00:00, 50.52it/s]\n"
          ]
        },
        {
          "output_type": "stream",
          "name": "stdout",
          "text": [
            "Epoch [24/30], Loss: 0.0000\n"
          ]
        },
        {
          "output_type": "stream",
          "name": "stderr",
          "text": [
            "100%|██████████| 675/675 [00:13<00:00, 51.30it/s]\n"
          ]
        },
        {
          "output_type": "stream",
          "name": "stdout",
          "text": [
            "Epoch [25/30], Loss: 0.0029\n"
          ]
        },
        {
          "output_type": "stream",
          "name": "stderr",
          "text": [
            "100%|██████████| 675/675 [00:12<00:00, 52.00it/s]\n"
          ]
        },
        {
          "output_type": "stream",
          "name": "stdout",
          "text": [
            "Epoch [26/30], Loss: 0.0007\n"
          ]
        },
        {
          "output_type": "stream",
          "name": "stderr",
          "text": [
            "100%|██████████| 675/675 [00:13<00:00, 51.10it/s]\n"
          ]
        },
        {
          "output_type": "stream",
          "name": "stdout",
          "text": [
            "Epoch [27/30], Loss: 0.0000\n"
          ]
        },
        {
          "output_type": "stream",
          "name": "stderr",
          "text": [
            "100%|██████████| 675/675 [00:13<00:00, 51.23it/s]\n"
          ]
        },
        {
          "output_type": "stream",
          "name": "stdout",
          "text": [
            "Epoch [28/30], Loss: 0.0001\n"
          ]
        },
        {
          "output_type": "stream",
          "name": "stderr",
          "text": [
            "100%|██████████| 675/675 [00:13<00:00, 50.73it/s]\n"
          ]
        },
        {
          "output_type": "stream",
          "name": "stdout",
          "text": [
            "Epoch [29/30], Loss: 0.0009\n"
          ]
        },
        {
          "output_type": "stream",
          "name": "stderr",
          "text": [
            "100%|██████████| 675/675 [00:13<00:00, 51.33it/s]"
          ]
        },
        {
          "output_type": "stream",
          "name": "stdout",
          "text": [
            "Epoch [30/30], Loss: 0.0000\n"
          ]
        },
        {
          "output_type": "stream",
          "name": "stderr",
          "text": [
            "\n"
          ]
        }
      ],
      "source": [
        "device = torch.device(\"cuda\" if torch.cuda.is_available() else \"cpu\")\n",
        "model = WatermarkDetectorCNN().to(device)\n",
        "# Initialize the CrossEntropyLoss function\n",
        "criterion = nn.CrossEntropyLoss()\n",
        "optimizer = torch.optim.Adam(model.parameters(), lr=0.0001)\n",
        "\n",
        "\n",
        "# Training loop\n",
        "model.train()  # Set the model to training mode\n",
        "num_epochs = 30\n",
        "epoch_losses = []\n",
        "all_labels = []\n",
        "all_scores = []\n",
        "\n",
        "\n",
        "for epoch in range(num_epochs):\n",
        "    batch_losses = []\n",
        "    for images, _, watermark_labels in tqdm(train_loader):  # Adjusted to ignore landscape labels\n",
        "        images = images.to(device)\n",
        "        watermark_labels = watermark_labels.to(device)  # Ensure labels are long integers\n",
        "        watermark_labels = watermark_labels.long()\n",
        "        optimizer.zero_grad()\n",
        "        outputs = model(images)\n",
        "        loss = criterion(outputs, watermark_labels)  # Labels are class indices\n",
        "        loss.backward()\n",
        "        torch.nn.utils.clip_grad_norm_(model.parameters(), max_norm=1)\n",
        "        optimizer.step()\n",
        "\n",
        "        batch_losses.append(loss.item())\n",
        "\n",
        "    # Calculate and store the average loss for this epoch\n",
        "    epoch_losses = np.mean(batch_losses)\n",
        "    print(f'Epoch [{epoch+1}/{num_epochs}], Loss: {epoch_losses:.4f}')"
      ]
    },
    {
      "cell_type": "code",
      "execution_count": 42,
      "id": "UA2H1VKIjUyj",
      "metadata": {
        "id": "UA2H1VKIjUyj"
      },
      "outputs": [],
      "source": [
        "_, predicted = torch.max(outputs, 1)  # Get the predicted classes\n",
        "accuracy = (predicted == watermark_labels).float().mean()  # Calculate accuracy\n"
      ]
    },
    {
      "cell_type": "code",
      "execution_count": null,
      "id": "iMDS6R1IWUN4",
      "metadata": {
        "id": "iMDS6R1IWUN4"
      },
      "outputs": [],
      "source": [
        "plt.figure(figsize=(10, 5))\n",
        "plt.plot(range(1, num_epochs + 1), epoch_losses, marker='o', linestyle='-', color='b')\n",
        "plt.title('Training Loss Over Epochs')\n",
        "plt.xlabel('Epoch')\n",
        "plt.ylabel('Loss')\n",
        "plt.grid(True)\n",
        "plt.show()"
      ]
    },
    {
      "cell_type": "code",
      "execution_count": null,
      "id": "M_lf1nUbWWKV",
      "metadata": {
        "id": "M_lf1nUbWWKV"
      },
      "outputs": [],
      "source": [
        "fpr, tpr, thresholds = roc_curve(all_labels, all_probs)\n",
        "roc_auc = auc(fpr, tpr)\n",
        "\n",
        "plt.figure(figsize=(10, 5))\n",
        "plt.plot(fpr, tpr, color='darkorange', lw=2, label=f'ROC Curve (area = {roc_auc:.2f})')\n",
        "plt.plot([0, 1], [0, 1], color='navy', lw=2, linestyle='--')\n",
        "plt.xlim([0.0, 1.0])\n",
        "plt.ylim([0.0, 1.05])\n",
        "plt.xlabel('False Positive Rate')\n",
        "plt.ylabel('True Positive Rate')\n",
        "plt.title('Receiver Operating Characteristic for Watermark Detection')\n",
        "plt.legend(loc=\"lower right\")\n",
        "plt.grid(True)\n",
        "plt.show()"
      ]
    },
    {
      "cell_type": "code",
      "execution_count": 45,
      "id": "Pco094YWVYIa",
      "metadata": {
        "id": "Pco094YWVYIa",
        "colab": {
          "base_uri": "https://localhost:8080/",
          "height": 1000
        },
        "outputId": "863cc156-f9bb-40c6-ee52-f2ac5be44f2c"
      },
      "outputs": [
        {
          "output_type": "stream",
          "name": "stderr",
          "text": [
            "100%|██████████| 675/675 [00:11<00:00, 59.78it/s]\n"
          ]
        },
        {
          "output_type": "stream",
          "name": "stdout",
          "text": [
            "Accuracy: 1.0\n",
            "Precision: 1.0\n",
            "Recall: 1.0\n",
            "F1 Score: 1.0\n",
            "AUC Score: 1.0\n"
          ]
        },
        {
          "output_type": "display_data",
          "data": {
            "text/plain": [
              "<Figure size 640x480 with 2 Axes>"
            ],
            "image/png": "[encoded data removed]"
          },
          "metadata": {}
        },
        {
          "output_type": "display_data",
          "data": {
            "text/plain": [
              "<Figure size 640x480 with 2 Axes>"
            ],
            "image/png": "[encoded data removed]"
          },
          "metadata": {}
        }
      ],
      "source": [
        "import numpy as np\n",
        "import matplotlib.pyplot as plt\n",
        "from sklearn.metrics import accuracy_score, precision_score, recall_score, f1_score, roc_auc_score, confusion_matrix, roc_curve\n",
        "import itertools\n",
        "\n",
        "# Assuming you have 'test_loader' ready and the model is trained and moved to the correct device\n",
        "model.eval()\n",
        "\n",
        "all_labels = []\n",
        "all_preds = []\n",
        "\n",
        "with torch.no_grad():\n",
        "    for images, _, watermark_labels in tqdm(train_loader):\n",
        "        images = images.to(device)\n",
        "        watermark_labels = watermark_labels.to(device)  # Ensure labels are long integers\n",
        "        watermark_labels = watermark_labels.long()\n",
        "        outputs = model(images)\n",
        "        _, predicted = torch.max(outputs, 1)\n",
        "        all_labels.extend(watermark_labels.cpu().numpy())\n",
        "        all_preds.extend(predicted.cpu().numpy())\n",
        "\n",
        "# Calculate metrics\n",
        "accuracy = accuracy_score(all_labels, all_preds)\n",
        "precision = precision_score(all_labels, all_preds)\n",
        "recall = recall_score(all_labels, all_preds)\n",
        "f1 = f1_score(all_labels, all_preds)\n",
        "auc = roc_auc_score(all_labels, all_preds)\n",
        "\n",
        "print(\"Accuracy:\", accuracy)\n",
        "print(\"Precision:\", precision)\n",
        "print(\"Recall:\", recall)\n",
        "print(\"F1 Score:\", f1)\n",
        "print(\"AUC Score:\", auc)\n",
        "\n",
        "# Function to plot confusion matrix\n",
        "def plot_confusion_matrix(cm, classes,\n",
        "                          normalize=False,\n",
        "                          title='Confusion matrix',\n",
        "                          cmap=plt.cm.Blues):\n",
        "    \"\"\"\n",
        "    This function prints and plots the confusion matrix.\n",
        "    Normalization can be applied by setting `normalize=True`.\n",
        "    \"\"\"\n",
        "    plt.imshow(cm, interpolation='nearest', cmap=cmap)\n",
        "    plt.title(title)\n",
        "    plt.colorbar()\n",
        "    tick_marks = np.arange(len(classes))\n",
        "    plt.xticks(tick_marks, classes, rotation=45)\n",
        "    plt.yticks(tick_marks, classes)\n",
        "\n",
        "    if normalize:\n",
        "        cm = cm.astype('float') / cm.sum(axis=1)[:, np.newaxis]\n",
        "\n",
        "    thresh = cm.max() / 2.\n",
        "    for i, j in itertools.product(range(cm.shape[0]), range(cm.shape[1])):\n",
        "        plt.text(j, i, cm[i, j],\n",
        "                 horizontalalignment=\"center\",\n",
        "                 color=\"white\" if cm[i, j] > thresh else \"black\")\n",
        "\n",
        "    plt.tight_layout()\n",
        "    plt.ylabel('True label')\n",
        "    plt.xlabel('Predicted label')\n",
        "\n",
        "# Compute confusion matrix\n",
        "cnf_matrix = confusion_matrix(all_labels, all_preds)\n",
        "np.set_printoptions(precision=2)\n",
        "\n",
        "# Plot non-normalized confusion matrix\n",
        "plt.figure()\n",
        "plot_confusion_matrix(cnf_matrix, classes=['Non-Watermarked', 'Watermarked'],\n",
        "                      title='Confusion matrix, without normalization')\n",
        "\n",
        "# Plot normalized confusion matrix\n",
        "plt.figure()\n",
        "plot_confusion_matrix(cnf_matrix, classes=['Non-Watermarked', 'Watermarked'], normalize=True,\n",
        "                      title='Normalized confusion matrix')\n",
        "\n",
        "plt.show()"
      ]
    },
    {
      "cell_type": "code",
      "execution_count": 46,
      "id": "ItB1tayZcprs",
      "metadata": {
        "id": "ItB1tayZcprs",
        "colab": {
          "base_uri": "https://localhost:8080/"
        },
        "outputId": "7d294ab1-7dfd-4588-b53e-53bcd2197978"
      },
      "outputs": [
        {
          "output_type": "stream",
          "name": "stderr",
          "text": [
            "Saving images: 100%|██████████| 21600/21600 [00:27<00:00, 788.46it/s]\n"
          ]
        }
      ],
      "source": [
        "import tifffile\n",
        "def save_dataset_images(dataset, root_dir):\n",
        "    labels = ['Forest', 'HerbaceousVegetation', 'AnnualCrop', 'Industrial', 'PermanentCrop', 'SeaLake', 'Residential', 'River', 'Pasture', 'Highway']\n",
        "\n",
        "    # Ensure directory structure\n",
        "    for label in labels:\n",
        "        os.makedirs(os.path.join(root_dir, label, \"watermarked\"), exist_ok=True)\n",
        "        os.makedirs(os.path.join(root_dir, label, \"non_watermarked\"), exist_ok=True)\n",
        "        os.makedirs(os.path.join(root_dir, label, \"generated\"), exist_ok=True)\n",
        "\n",
        "    # Initialize tqdm for visual progress bar\n",
        "    pbar = tqdm(enumerate(dataset), total=len(dataset), desc=\"Saving images\")\n",
        "\n",
        "    for i, (image, landscape_label, watermark_label) in pbar:\n",
        "        label_name = labels[landscape_label]\n",
        "        subfolder = \"watermarked\" if watermark_label else \"non_watermarked\"\n",
        "        file_path = os.path.join(root_dir, label_name, subfolder, f\"{i}.tif\")\n",
        "\n",
        "        # Convert the PyTorch tensor to a NumPy array\n",
        "        image_np = image.numpy()\n",
        "        #image_np = np.transpose(image_np, (1, 2, 0))  # Change to HxWxC if necessary\n",
        "\n",
        "        # Save the image as a TIFF\n",
        "        tifffile.imwrite(file_path, image_np)\n",
        "\n",
        "root_dir = \"/content/EuroSAT_MS/\"  # Make sure this is correctly set\n",
        "save_dataset_images(train_dataset, root_dir)\n"
      ]
    },
    {
      "cell_type": "markdown",
      "id": "JVwyFNSoPSCn",
      "metadata": {
        "id": "JVwyFNSoPSCn"
      },
      "source": [
        "## Maniulating Images"
      ]
    },
    {
      "cell_type": "code",
      "execution_count": 72,
      "id": "CI94GLM0PWX5",
      "metadata": {
        "id": "CI94GLM0PWX5"
      },
      "outputs": [],
      "source": [
        "# import the required packages\n",
        "import torch\n",
        "import argparse\n",
        "import numpy as np\n",
        "import torch.nn as nn\n",
        "import torch.optim as optim\n",
        "from torchvision import datasets, transforms\n",
        "from torch.autograd import Variable\n",
        "from torchvision.utils import save_image\n",
        "from torchvision.utils import make_grid\n",
        "from torch.utils.tensorboard import SummaryWriter\n",
        "import datetime\n",
        "import matplotlib.pyplot as plt\n",
        "from torchvision.utils import make_grid\n",
        "from torch.utils.tensorboard import SummaryWriter\n",
        "from torchsummary import summary"
      ]
    },
    {
      "cell_type": "code",
      "execution_count": 73,
      "id": "HJbQ9NSqh5F2",
      "metadata": {
        "id": "HJbQ9NSqh5F2"
      },
      "outputs": [],
      "source": [
        "import numpy as np\n",
        "import torch\n",
        "from torchvision import transforms\n",
        "from torch.utils.data import Dataset\n",
        "import tifffile\n",
        "\n",
        "class ForestDataset(Dataset):\n",
        "    def __init__(self, root_dir, transform=None):\n",
        "        \"\"\"\n",
        "        Args:\n",
        "            root_dir (string): Directory with all the images.\n",
        "            transform (callable, optional): Optional transform to be applied on a sample.\n",
        "        \"\"\"\n",
        "        self.root_dir = root_dir\n",
        "        self.transform = transform\n",
        "        self.files = []\n",
        "        self.labels = []\n",
        "\n",
        "        # Append all files in watermarked and non-watermarked directories\n",
        "        for label_folder in ['watermarked', 'non_watermarked']:\n",
        "            directory = os.path.join(root_dir, label_folder)\n",
        "            for file in os.listdir(directory):\n",
        "                if file.endswith('.tif'):\n",
        "                    self.files.append(os.path.join(directory, file))\n",
        "                    # Assign label: 0 for non_watermarked, 1 for watermarked\n",
        "                    self.labels.append(1 if label_folder == 'watermarked' else 0)\n",
        "\n",
        "    def __len__(self):\n",
        "        return len(self.files)\n",
        "\n",
        "    def __getitem__(self, idx):\n",
        "        img_path = self.files[idx]\n",
        "        label = self.labels[idx]\n",
        "\n",
        "        # Load image with tifffile\n",
        "        image = tifffile.imread(img_path)\n",
        "\n",
        "        # Verify that the image has the expected number of channels\n",
        "        if image.shape[0] != 13:\n",
        "            raise ValueError(f\"Image does not have 13 channels: {image.shape}\")\n",
        "\n",
        "        # Select RGB channels (2nd, 3rd, and 4th channels for RGB)\n",
        "        # Assuming the image array is in the shape of (channels, height, width)\n",
        "        image = image[1:4, :, :]  # Now image should have shape (3, H, W)\n",
        "\n",
        "        # Convert the numpy array to a PyTorch tensor\n",
        "        image = torch.from_numpy(image).float()\n",
        "\n",
        "        # Normalize the image if a transform is provided\n",
        "        if self.transform:\n",
        "            image = self.transform(image)  # Apply the transform\n",
        "\n",
        "        return image, label\n",
        "\n",
        "# Define the normalization transform\n",
        "transform = transforms.Normalize([0.5, 0.5, 0.5], [0.5, 0.5, 0.5])"
      ]
    },
    {
      "cell_type": "code",
      "execution_count": 74,
      "id": "F2cop-fAh9su",
      "metadata": {
        "id": "F2cop-fAh9su"
      },
      "outputs": [],
      "source": [
        "root_dir = '/content/EuroSAT_MS/Forest'  # Ensure this path is correct\n",
        "forest_dataset = ForestDataset(root_dir=root_dir, transform=transform)\n",
        "train_loader = DataLoader(forest_dataset, batch_size=32, shuffle=True)\n"
      ]
    },
    {
      "cell_type": "code",
      "execution_count": 75,
      "id": "qjP4Z4pcljCe",
      "metadata": {
        "id": "qjP4Z4pcljCe",
        "colab": {
          "base_uri": "https://localhost:8080/"
        },
        "outputId": "eb8baaae-4c2c-45dd-b392-8e11a9a87a77"
      },
      "outputs": [
        {
          "output_type": "stream",
          "name": "stdout",
          "text": [
            "torch.Size([3, 64, 64])\n",
            "torch.Size([3, 64, 64])\n",
            "torch.Size([32, 3, 64, 64])\n",
            "<class 'torch.Tensor'>\n"
          ]
        }
      ],
      "source": [
        "# Get the first image and label from the dataset\n",
        "image, label = forest_dataset[0]\n",
        "\n",
        "# Print the shape; it should be in (C, H, W) format if you've already transposed it\n",
        "print(image.shape)\n",
        "# Check what the dataset returns directly\n",
        "sample_image, sample_label = forest_dataset[0]\n",
        "print(sample_image.shape)  # This should print (3, 64, 64) or similar\n",
        "# Check the first batch from the DataLoader\n",
        "for images, labels in train_loader:\n",
        "    print(images.shape)  # What does this print?\n",
        "    print(type(images))  # Ensure this is a tensor\n",
        "    break\n"
      ]
    },
    {
      "cell_type": "code",
      "execution_count": 76,
      "id": "9NUZp3DpRosJ",
      "metadata": {
        "id": "9NUZp3DpRosJ"
      },
      "outputs": [],
      "source": [
        "device = torch.device('cuda' if torch.cuda.is_available() else 'cpu')\n",
        "batch_size = 16"
      ]
    },
    {
      "cell_type": "code",
      "execution_count": 77,
      "id": "RHIYY3TARyQn",
      "metadata": {
        "id": "RHIYY3TARyQn"
      },
      "outputs": [],
      "source": [
        "image_shape = (3, 64, 64)\n",
        "image_dim = int(np.prod(image_shape))\n",
        "latent_dim = 100"
      ]
    },
    {
      "cell_type": "code",
      "execution_count": 78,
      "id": "Pz_d9CaNXqHy",
      "metadata": {
        "id": "Pz_d9CaNXqHy",
        "colab": {
          "base_uri": "https://localhost:8080/"
        },
        "outputId": "7df00edd-4909-478d-9fab-9a8e67ff101e"
      },
      "outputs": [
        {
          "output_type": "stream",
          "name": "stdout",
          "text": [
            "Training samples:  1200\n",
            "number of batches:  75\n"
          ]
        }
      ],
      "source": [
        "num_class = len(train_loader.dataset.labels)\n",
        "print('Training samples: ', len(train_loader)*batch_size)\n",
        "print('number of batches: ', len(train_loader))"
      ]
    },
    {
      "cell_type": "code",
      "execution_count": 79,
      "id": "hn65NxIRRzrZ",
      "metadata": {
        "id": "hn65NxIRRzrZ"
      },
      "outputs": [],
      "source": [
        "def weights_init_normal(m):\n",
        "    classname = m.__class__.__name__\n",
        "    if classname.find(\"Conv\") != -1:\n",
        "        torch.nn.init.normal_(m.weight.data, 0.0, 0.02)\n",
        "    elif classname.find(\"BatchNorm2d\") != -1:\n",
        "        torch.nn.init.normal_(m.weight.data, 1.0, 0.02)\n",
        "        torch.nn.init.constant_(m.bias.data, 0.0)"
      ]
    },
    {
      "cell_type": "code",
      "execution_count": 80,
      "id": "LMVITPxVijpq",
      "metadata": {
        "id": "LMVITPxVijpq"
      },
      "outputs": [],
      "source": [
        "def show_images(images):\n",
        "    fig, ax = plt.subplots(figsize=(20, 20))\n",
        "    if images.max() > 1.0 or images.min() < 0.0:\n",
        "            images = (images - images.min()) / (images.max() - images.min())\n",
        "    ax.set_xticks([]); ax.set_yticks([])\n",
        "    ax.imshow(make_grid(images.detach(), nrow=22).permute(1, 2, 0))\n",
        "\n",
        "def show_batch(dl):\n",
        "    for images, _ in dl:\n",
        "        show_images(images)\n",
        "        break"
      ]
    },
    {
      "cell_type": "code",
      "execution_count": 81,
      "id": "eFx6-oQuR9yE",
      "metadata": {
        "id": "eFx6-oQuR9yE",
        "colab": {
          "base_uri": "https://localhost:8080/",
          "height": 84
        },
        "outputId": "8eeff4b7-7e78-43bc-face-ce8a7c1fc55d"
      },
      "outputs": [
        {
          "output_type": "display_data",
          "data": {
            "text/plain": [
              "<Figure size 2000x2000 with 1 Axes>"
            ],
            "image/png": "[encoded data removed]"
          },
          "metadata": {}
        }
      ],
      "source": [
        "show_batch(train_loader)"
      ]
    },
    {
      "cell_type": "code",
      "execution_count": 82,
      "id": "JxkNoRTOSBqD",
      "metadata": {
        "id": "JxkNoRTOSBqD"
      },
      "outputs": [],
      "source": [
        "# Generator Model Class Definition\n",
        "class Generator(nn.Module):\n",
        "    def __init__(self):\n",
        "        super(Generator, self).__init__()\n",
        "        self.main = nn.Sequential(\n",
        "            # Block 1:input is Z, going into a convolution\n",
        "            nn.ConvTranspose2d(latent_dim, 64 * 8, 4, 1, 0, bias=False),\n",
        "            nn.BatchNorm2d(64 * 8),\n",
        "            nn.ReLU(True),\n",
        "            # Block 2: input is (64 * 8) x 4 x 4\n",
        "            nn.ConvTranspose2d(64 * 8, 64 * 4, 4, 2, 1, bias=False),\n",
        "            nn.BatchNorm2d(64 * 4),\n",
        "            nn.ReLU(True),\n",
        "            # Block 3: input is (64 * 4) x 8 x 8\n",
        "            nn.ConvTranspose2d(64 * 4, 64 * 2, 4, 2, 1, bias=False),\n",
        "            nn.BatchNorm2d(64 * 2),\n",
        "            nn.ReLU(True),\n",
        "            # Block 4: input is (64 * 2) x 16 x 16\n",
        "            nn.ConvTranspose2d(64 * 2, 64, 4, 2, 1, bias=False),\n",
        "            nn.BatchNorm2d(64),\n",
        "            nn.ReLU(True),\n",
        "            # Block 5: input is (64) x 32 x 32\n",
        "            nn.ConvTranspose2d(64, 3, 4, 2, 1, bias=False),\n",
        "            nn.Tanh()\n",
        "            # Output: output is (3) x 64 x 64\n",
        "            )\n",
        "    def forward(self, input):\n",
        "        output = self.main(input)\n",
        "        return output"
      ]
    },
    {
      "cell_type": "code",
      "execution_count": 83,
      "id": "ndNs1azgSD4Z",
      "metadata": {
        "id": "ndNs1azgSD4Z"
      },
      "outputs": [],
      "source": [
        "# Discriminator Model Class Definition\n",
        "class Discriminator(nn.Module):\n",
        "    def __init__(self):\n",
        "        super(Discriminator, self).__init__()\n",
        "        self.main = nn.Sequential(\n",
        "            # Block 1: input is (3) x 64 x 64\n",
        "            nn.Conv2d(3, 64, 4, 2, 1, bias=False),\n",
        "            nn.LeakyReLU(0.2, inplace=True),\n",
        "            # Block 2: input is (64) x 32 x 32\n",
        "            nn.Conv2d(64, 64 * 2, 4, 2, 1, bias=False),\n",
        "            nn.BatchNorm2d(64 * 2),\n",
        "            nn.LeakyReLU(0.2, inplace=True),\n",
        "            # Block 3: input is (64*2) x 16 x 16\n",
        "            nn.Conv2d(64 * 2, 64 * 4, 4, 2, 1, bias=False),\n",
        "            nn.BatchNorm2d(64 * 4),\n",
        "            nn.LeakyReLU(0.2, inplace=True),\n",
        "            # Block 4: input is (64*4) x 8 x 8\n",
        "            nn.Conv2d(64 * 4, 64 * 8, 4, 2, 1, bias=False),\n",
        "            nn.BatchNorm2d(64 * 8),\n",
        "            nn.LeakyReLU(0.2, inplace=True),\n",
        "            # Block 5: input is (64*8) x 4 x 4\n",
        "            nn.Conv2d(64 * 8, 1, 4, 1, 0, bias=False),\n",
        "            nn.Sigmoid(),\n",
        "            nn.Flatten()\n",
        "            # Output: 1\n",
        "            )\n",
        "    def forward(self, input):\n",
        "        output = self.main(input)\n",
        "        return output"
      ]
    },
    {
      "cell_type": "code",
      "execution_count": 84,
      "id": "rPfnyhB1SFd2",
      "metadata": {
        "id": "rPfnyhB1SFd2",
        "colab": {
          "base_uri": "https://localhost:8080/"
        },
        "outputId": "6397b415-ccc7-42be-9f1e-4e52b1f1185e"
      },
      "outputs": [
        {
          "output_type": "stream",
          "name": "stdout",
          "text": [
            "Generator(\n",
            "  (main): Sequential(\n",
            "    (0): ConvTranspose2d(100, 512, kernel_size=(4, 4), stride=(1, 1), bias=False)\n",
            "    (1): BatchNorm2d(512, eps=1e-05, momentum=0.1, affine=True, track_running_stats=True)\n",
            "    (2): ReLU(inplace=True)\n",
            "    (3): ConvTranspose2d(512, 256, kernel_size=(4, 4), stride=(2, 2), padding=(1, 1), bias=False)\n",
            "    (4): BatchNorm2d(256, eps=1e-05, momentum=0.1, affine=True, track_running_stats=True)\n",
            "    (5): ReLU(inplace=True)\n",
            "    (6): ConvTranspose2d(256, 128, kernel_size=(4, 4), stride=(2, 2), padding=(1, 1), bias=False)\n",
            "    (7): BatchNorm2d(128, eps=1e-05, momentum=0.1, affine=True, track_running_stats=True)\n",
            "    (8): ReLU(inplace=True)\n",
            "    (9): ConvTranspose2d(128, 64, kernel_size=(4, 4), stride=(2, 2), padding=(1, 1), bias=False)\n",
            "    (10): BatchNorm2d(64, eps=1e-05, momentum=0.1, affine=True, track_running_stats=True)\n",
            "    (11): ReLU(inplace=True)\n",
            "    (12): ConvTranspose2d(64, 3, kernel_size=(4, 4), stride=(2, 2), padding=(1, 1), bias=False)\n",
            "    (13): Tanh()\n",
            "  )\n",
            ")\n"
          ]
        }
      ],
      "source": [
        "generator = Generator().to(device)\n",
        "generator.apply(weights_init_normal)\n",
        "print(generator)"
      ]
    },
    {
      "cell_type": "code",
      "execution_count": 85,
      "id": "KvL-_73QSH6G",
      "metadata": {
        "id": "KvL-_73QSH6G",
        "colab": {
          "base_uri": "https://localhost:8080/"
        },
        "outputId": "84722073-974e-4469-a54e-ff1efc94e98f"
      },
      "outputs": [
        {
          "output_type": "stream",
          "name": "stdout",
          "text": [
            "Discriminator(\n",
            "  (main): Sequential(\n",
            "    (0): Conv2d(3, 64, kernel_size=(4, 4), stride=(2, 2), padding=(1, 1), bias=False)\n",
            "    (1): LeakyReLU(negative_slope=0.2, inplace=True)\n",
            "    (2): Conv2d(64, 128, kernel_size=(4, 4), stride=(2, 2), padding=(1, 1), bias=False)\n",
            "    (3): BatchNorm2d(128, eps=1e-05, momentum=0.1, affine=True, track_running_stats=True)\n",
            "    (4): LeakyReLU(negative_slope=0.2, inplace=True)\n",
            "    (5): Conv2d(128, 256, kernel_size=(4, 4), stride=(2, 2), padding=(1, 1), bias=False)\n",
            "    (6): BatchNorm2d(256, eps=1e-05, momentum=0.1, affine=True, track_running_stats=True)\n",
            "    (7): LeakyReLU(negative_slope=0.2, inplace=True)\n",
            "    (8): Conv2d(256, 512, kernel_size=(4, 4), stride=(2, 2), padding=(1, 1), bias=False)\n",
            "    (9): BatchNorm2d(512, eps=1e-05, momentum=0.1, affine=True, track_running_stats=True)\n",
            "    (10): LeakyReLU(negative_slope=0.2, inplace=True)\n",
            "    (11): Conv2d(512, 1, kernel_size=(4, 4), stride=(1, 1), bias=False)\n",
            "    (12): Sigmoid()\n",
            "    (13): Flatten(start_dim=1, end_dim=-1)\n",
            "  )\n",
            ")\n"
          ]
        }
      ],
      "source": [
        "discriminator = Discriminator().to(device)\n",
        "discriminator.apply(weights_init_normal)\n",
        "print(discriminator)"
      ]
    },
    {
      "cell_type": "code",
      "execution_count": 86,
      "id": "2eoXG9M3SJfS",
      "metadata": {
        "id": "2eoXG9M3SJfS",
        "colab": {
          "base_uri": "https://localhost:8080/"
        },
        "outputId": "f56d089a-6a3f-48f6-e041-b9ab3fb04830"
      },
      "outputs": [
        {
          "output_type": "stream",
          "name": "stdout",
          "text": [
            "----------------------------------------------------------------\n",
            "        Layer (type)               Output Shape         Param #\n",
            "================================================================\n",
            "   ConvTranspose2d-1            [-1, 512, 4, 4]         819,200\n",
            "       BatchNorm2d-2            [-1, 512, 4, 4]           1,024\n",
            "              ReLU-3            [-1, 512, 4, 4]               0\n",
            "   ConvTranspose2d-4            [-1, 256, 8, 8]       2,097,152\n",
            "       BatchNorm2d-5            [-1, 256, 8, 8]             512\n",
            "              ReLU-6            [-1, 256, 8, 8]               0\n",
            "   ConvTranspose2d-7          [-1, 128, 16, 16]         524,288\n",
            "       BatchNorm2d-8          [-1, 128, 16, 16]             256\n",
            "              ReLU-9          [-1, 128, 16, 16]               0\n",
            "  ConvTranspose2d-10           [-1, 64, 32, 32]         131,072\n",
            "      BatchNorm2d-11           [-1, 64, 32, 32]             128\n",
            "             ReLU-12           [-1, 64, 32, 32]               0\n",
            "  ConvTranspose2d-13            [-1, 3, 64, 64]           3,072\n",
            "             Tanh-14            [-1, 3, 64, 64]               0\n",
            "================================================================\n",
            "Total params: 3,576,704\n",
            "Trainable params: 3,576,704\n",
            "Non-trainable params: 0\n",
            "----------------------------------------------------------------\n",
            "Input size (MB): 0.00\n",
            "Forward/backward pass size (MB): 3.00\n",
            "Params size (MB): 13.64\n",
            "Estimated Total Size (MB): 16.64\n",
            "----------------------------------------------------------------\n"
          ]
        }
      ],
      "source": [
        "summary(generator, (100,1,1))"
      ]
    },
    {
      "cell_type": "code",
      "execution_count": 87,
      "id": "rrd5_UvISK8E",
      "metadata": {
        "id": "rrd5_UvISK8E",
        "colab": {
          "base_uri": "https://localhost:8080/"
        },
        "outputId": "4396a3cd-b9aa-4c59-9869-43671f2f8f94"
      },
      "outputs": [
        {
          "output_type": "stream",
          "name": "stdout",
          "text": [
            "----------------------------------------------------------------\n",
            "        Layer (type)               Output Shape         Param #\n",
            "================================================================\n",
            "            Conv2d-1           [-1, 64, 32, 32]           3,072\n",
            "         LeakyReLU-2           [-1, 64, 32, 32]               0\n",
            "            Conv2d-3          [-1, 128, 16, 16]         131,072\n",
            "       BatchNorm2d-4          [-1, 128, 16, 16]             256\n",
            "         LeakyReLU-5          [-1, 128, 16, 16]               0\n",
            "            Conv2d-6            [-1, 256, 8, 8]         524,288\n",
            "       BatchNorm2d-7            [-1, 256, 8, 8]             512\n",
            "         LeakyReLU-8            [-1, 256, 8, 8]               0\n",
            "            Conv2d-9            [-1, 512, 4, 4]       2,097,152\n",
            "      BatchNorm2d-10            [-1, 512, 4, 4]           1,024\n",
            "        LeakyReLU-11            [-1, 512, 4, 4]               0\n",
            "           Conv2d-12              [-1, 1, 1, 1]           8,192\n",
            "          Sigmoid-13              [-1, 1, 1, 1]               0\n",
            "          Flatten-14                    [-1, 1]               0\n",
            "================================================================\n",
            "Total params: 2,765,568\n",
            "Trainable params: 2,765,568\n",
            "Non-trainable params: 0\n",
            "----------------------------------------------------------------\n",
            "Input size (MB): 0.05\n",
            "Forward/backward pass size (MB): 2.31\n",
            "Params size (MB): 10.55\n",
            "Estimated Total Size (MB): 12.91\n",
            "----------------------------------------------------------------\n"
          ]
        }
      ],
      "source": [
        "summary(discriminator, (3,64,64))"
      ]
    },
    {
      "cell_type": "code",
      "execution_count": 88,
      "id": "S1Kkfq84SL5p",
      "metadata": {
        "id": "S1Kkfq84SL5p"
      },
      "outputs": [],
      "source": [
        "adversarial_loss = nn.BCELoss()"
      ]
    },
    {
      "cell_type": "code",
      "execution_count": 89,
      "id": "mIEla4wLSvMG",
      "metadata": {
        "id": "mIEla4wLSvMG"
      },
      "outputs": [],
      "source": [
        "def generator_loss(fake_output, label):\n",
        "    gen_loss = adversarial_loss(fake_output, label)\n",
        "    #print(gen_loss)\n",
        "    return gen_loss"
      ]
    },
    {
      "cell_type": "code",
      "execution_count": 90,
      "id": "fS2Ie35QSxSD",
      "metadata": {
        "id": "fS2Ie35QSxSD"
      },
      "outputs": [],
      "source": [
        "def discriminator_loss(output, label):\n",
        "    disc_loss = adversarial_loss(output, label)\n",
        "    return disc_loss"
      ]
    },
    {
      "cell_type": "code",
      "execution_count": 91,
      "id": "dj9h4DuuSyhp",
      "metadata": {
        "id": "dj9h4DuuSyhp"
      },
      "outputs": [],
      "source": [
        "fixed_noise = torch.randn(128, latent_dim, 1, 1, device=device)\n",
        "real_label = 1\n",
        "fake_label = 0"
      ]
    },
    {
      "cell_type": "code",
      "execution_count": 92,
      "id": "jy4MGfOLSz0_",
      "metadata": {
        "id": "jy4MGfOLSz0_"
      },
      "outputs": [],
      "source": [
        "learning_rate = 0.0002\n",
        "G_optimizer = optim.Adam(generator.parameters(), lr = learning_rate, betas=(0.5, 0.999))\n",
        "D_optimizer = optim.Adam(discriminator.parameters(), lr = learning_rate, betas=(0.5, 0.999))"
      ]
    },
    {
      "cell_type": "code",
      "execution_count": 93,
      "id": "bR-IUDseS2Zr",
      "metadata": {
        "id": "bR-IUDseS2Zr",
        "colab": {
          "base_uri": "https://localhost:8080/"
        },
        "outputId": "f0bf3c5d-0125-4167-a289-a01c0d658f9e"
      },
      "outputs": [
        {
          "output_type": "stream",
          "name": "stdout",
          "text": [
            "Epoch: [1/150]: D_loss: 0.156, G_loss: 11.555\n",
            "Epoch: [2/150]: D_loss: 0.014, G_loss: 11.387\n",
            "Epoch: [3/150]: D_loss: 0.279, G_loss: 25.021\n",
            "Epoch: [4/150]: D_loss: 0.000, G_loss: 52.141\n",
            "Epoch: [5/150]: D_loss: 0.000, G_loss: 52.078\n",
            "Epoch: [6/150]: D_loss: 0.000, G_loss: 52.040\n",
            "Epoch: [7/150]: D_loss: 0.000, G_loss: 52.018\n",
            "Epoch: [8/150]: D_loss: 0.000, G_loss: 51.996\n",
            "Epoch: [9/150]: D_loss: 0.000, G_loss: 51.979\n",
            "Epoch: [10/150]: D_loss: 0.000, G_loss: 51.966\n",
            "Epoch: [11/150]: D_loss: 0.000, G_loss: 51.955\n",
            "Epoch: [12/150]: D_loss: 0.000, G_loss: 51.945\n",
            "Epoch: [13/150]: D_loss: 0.000, G_loss: 51.926\n",
            "Epoch: [14/150]: D_loss: 0.000, G_loss: 51.926\n",
            "Epoch: [15/150]: D_loss: 0.000, G_loss: 51.919\n",
            "Epoch: [16/150]: D_loss: 0.000, G_loss: 51.901\n",
            "Epoch: [17/150]: D_loss: 0.000, G_loss: 51.888\n",
            "Epoch: [18/150]: D_loss: 0.000, G_loss: 51.888\n",
            "Epoch: [19/150]: D_loss: 0.000, G_loss: 51.884\n",
            "Epoch: [20/150]: D_loss: 0.000, G_loss: 51.878\n",
            "Epoch: [21/150]: D_loss: 0.000, G_loss: 51.873\n",
            "Epoch: [22/150]: D_loss: 0.000, G_loss: 51.865\n",
            "Epoch: [23/150]: D_loss: 0.000, G_loss: 51.859\n",
            "Epoch: [24/150]: D_loss: 0.000, G_loss: 51.848\n",
            "Epoch: [25/150]: D_loss: 0.000, G_loss: 51.850\n",
            "Epoch: [26/150]: D_loss: 0.000, G_loss: 51.843\n",
            "Epoch: [27/150]: D_loss: 0.000, G_loss: 51.831\n",
            "Epoch: [28/150]: D_loss: 0.000, G_loss: 51.831\n",
            "Epoch: [29/150]: D_loss: 0.000, G_loss: 51.833\n",
            "Epoch: [30/150]: D_loss: 0.000, G_loss: 51.828\n",
            "Epoch: [31/150]: D_loss: 0.000, G_loss: 51.825\n",
            "Epoch: [32/150]: D_loss: 0.000, G_loss: 51.817\n",
            "Epoch: [33/150]: D_loss: 0.000, G_loss: 51.817\n",
            "Epoch: [34/150]: D_loss: 0.000, G_loss: 51.813\n",
            "Epoch: [35/150]: D_loss: 0.000, G_loss: 51.812\n",
            "Epoch: [36/150]: D_loss: 0.000, G_loss: 51.806\n",
            "Epoch: [37/150]: D_loss: 0.000, G_loss: 51.803\n",
            "Epoch: [38/150]: D_loss: 0.000, G_loss: 51.798\n",
            "Epoch: [39/150]: D_loss: 0.000, G_loss: 51.794\n",
            "Epoch: [40/150]: D_loss: 0.000, G_loss: 51.785\n",
            "Epoch: [41/150]: D_loss: 0.000, G_loss: 51.785\n",
            "Epoch: [42/150]: D_loss: 0.000, G_loss: 51.788\n",
            "Epoch: [43/150]: D_loss: 0.000, G_loss: 51.782\n",
            "Epoch: [44/150]: D_loss: 0.000, G_loss: 51.779\n",
            "Epoch: [45/150]: D_loss: 0.000, G_loss: 51.775\n",
            "Epoch: [46/150]: D_loss: 0.000, G_loss: 51.776\n",
            "Epoch: [47/150]: D_loss: 0.000, G_loss: 51.773\n",
            "Epoch: [48/150]: D_loss: 0.000, G_loss: 51.768\n",
            "Epoch: [49/150]: D_loss: 0.000, G_loss: 51.761\n",
            "Epoch: [50/150]: D_loss: 0.000, G_loss: 51.764\n",
            "Epoch: [51/150]: D_loss: 0.000, G_loss: 51.748\n",
            "Epoch: [52/150]: D_loss: 0.000, G_loss: 51.755\n",
            "Epoch: [53/150]: D_loss: 0.000, G_loss: 51.748\n",
            "Epoch: [54/150]: D_loss: 0.000, G_loss: 51.752\n",
            "Epoch: [55/150]: D_loss: 0.000, G_loss: 51.747\n",
            "Epoch: [56/150]: D_loss: 0.000, G_loss: 51.742\n",
            "Epoch: [57/150]: D_loss: 0.000, G_loss: 51.748\n",
            "Epoch: [58/150]: D_loss: 0.000, G_loss: 51.731\n",
            "Epoch: [59/150]: D_loss: 0.000, G_loss: 51.728\n",
            "Epoch: [60/150]: D_loss: 0.000, G_loss: 51.725\n",
            "Epoch: [61/150]: D_loss: 0.000, G_loss: 51.734\n",
            "Epoch: [62/150]: D_loss: 0.000, G_loss: 51.731\n",
            "Epoch: [63/150]: D_loss: 0.000, G_loss: 51.717\n",
            "Epoch: [64/150]: D_loss: 0.000, G_loss: 51.712\n",
            "Epoch: [65/150]: D_loss: 0.000, G_loss: 51.717\n",
            "Epoch: [66/150]: D_loss: 0.000, G_loss: 51.717\n",
            "Epoch: [67/150]: D_loss: 0.000, G_loss: 51.702\n",
            "Epoch: [68/150]: D_loss: 0.000, G_loss: 51.700\n",
            "Epoch: [69/150]: D_loss: 0.000, G_loss: 51.707\n",
            "Epoch: [70/150]: D_loss: 0.000, G_loss: 51.707\n",
            "Epoch: [71/150]: D_loss: 0.000, G_loss: 51.704\n",
            "Epoch: [72/150]: D_loss: 0.000, G_loss: 51.692\n",
            "Epoch: [73/150]: D_loss: 0.000, G_loss: 51.689\n",
            "Epoch: [74/150]: D_loss: 0.000, G_loss: 51.690\n",
            "Epoch: [75/150]: D_loss: 0.000, G_loss: 51.696\n",
            "Epoch: [76/150]: D_loss: 0.000, G_loss: 51.689\n",
            "Epoch: [77/150]: D_loss: 0.000, G_loss: 51.690\n",
            "Epoch: [78/150]: D_loss: 0.000, G_loss: 51.678\n",
            "Epoch: [79/150]: D_loss: 0.000, G_loss: 51.684\n",
            "Epoch: [80/150]: D_loss: 0.000, G_loss: 51.674\n",
            "Epoch: [81/150]: D_loss: 0.000, G_loss: 51.663\n",
            "Epoch: [82/150]: D_loss: 0.000, G_loss: 51.664\n",
            "Epoch: [83/150]: D_loss: 0.000, G_loss: 51.660\n",
            "Epoch: [84/150]: D_loss: 0.000, G_loss: 51.655\n",
            "Epoch: [85/150]: D_loss: 0.000, G_loss: 51.653\n",
            "Epoch: [86/150]: D_loss: 0.000, G_loss: 51.658\n",
            "Epoch: [87/150]: D_loss: 0.000, G_loss: 51.662\n",
            "Epoch: [88/150]: D_loss: 0.000, G_loss: 51.662\n",
            "Epoch: [89/150]: D_loss: 0.000, G_loss: 51.648\n",
            "Epoch: [90/150]: D_loss: 0.000, G_loss: 51.647\n",
            "Epoch: [91/150]: D_loss: 0.000, G_loss: 51.643\n",
            "Epoch: [92/150]: D_loss: 0.000, G_loss: 51.650\n",
            "Epoch: [93/150]: D_loss: 0.000, G_loss: 51.637\n",
            "Epoch: [94/150]: D_loss: 0.000, G_loss: 51.644\n",
            "Epoch: [95/150]: D_loss: 0.000, G_loss: 51.631\n",
            "Epoch: [96/150]: D_loss: 0.000, G_loss: 51.632\n",
            "Epoch: [97/150]: D_loss: 0.000, G_loss: 51.627\n",
            "Epoch: [98/150]: D_loss: 0.000, G_loss: 51.628\n",
            "Epoch: [99/150]: D_loss: 0.000, G_loss: 51.623\n",
            "Epoch: [100/150]: D_loss: 0.000, G_loss: 51.624\n",
            "Epoch: [101/150]: D_loss: 0.000, G_loss: 51.624\n",
            "Epoch: [102/150]: D_loss: 0.000, G_loss: 51.618\n",
            "Epoch: [103/150]: D_loss: 0.000, G_loss: 51.607\n",
            "Epoch: [104/150]: D_loss: 0.000, G_loss: 51.607\n",
            "Epoch: [105/150]: D_loss: 0.000, G_loss: 51.610\n",
            "Epoch: [106/150]: D_loss: 0.000, G_loss: 51.612\n",
            "Epoch: [107/150]: D_loss: 0.000, G_loss: 51.595\n",
            "Epoch: [108/150]: D_loss: 0.000, G_loss: 51.597\n",
            "Epoch: [109/150]: D_loss: 0.000, G_loss: 51.594\n",
            "Epoch: [110/150]: D_loss: 0.000, G_loss: 51.594\n",
            "Epoch: [111/150]: D_loss: 0.000, G_loss: 51.586\n",
            "Epoch: [112/150]: D_loss: 0.000, G_loss: 51.583\n",
            "Epoch: [113/150]: D_loss: 0.000, G_loss: 51.588\n",
            "Epoch: [114/150]: D_loss: 0.000, G_loss: 51.586\n",
            "Epoch: [115/150]: D_loss: 0.000, G_loss: 51.585\n",
            "Epoch: [116/150]: D_loss: 0.000, G_loss: 51.579\n",
            "Epoch: [117/150]: D_loss: 0.000, G_loss: 51.585\n",
            "Epoch: [118/150]: D_loss: 0.000, G_loss: 51.582\n",
            "Epoch: [119/150]: D_loss: 0.000, G_loss: 51.570\n",
            "Epoch: [120/150]: D_loss: 0.000, G_loss: 51.570\n",
            "Epoch: [121/150]: D_loss: 0.000, G_loss: 51.572\n",
            "Epoch: [122/150]: D_loss: 0.000, G_loss: 51.562\n",
            "Epoch: [123/150]: D_loss: 0.000, G_loss: 51.568\n",
            "Epoch: [124/150]: D_loss: 0.000, G_loss: 51.563\n",
            "Epoch: [125/150]: D_loss: 0.000, G_loss: 51.559\n",
            "Epoch: [126/150]: D_loss: 0.000, G_loss: 51.560\n",
            "Epoch: [127/150]: D_loss: 0.000, G_loss: 51.561\n",
            "Epoch: [128/150]: D_loss: 0.000, G_loss: 51.558\n",
            "Epoch: [129/150]: D_loss: 0.000, G_loss: 51.559\n",
            "Epoch: [130/150]: D_loss: 0.000, G_loss: 51.551\n",
            "Epoch: [131/150]: D_loss: 0.000, G_loss: 51.542\n",
            "Epoch: [132/150]: D_loss: 0.000, G_loss: 51.542\n",
            "Epoch: [133/150]: D_loss: 0.000, G_loss: 51.528\n",
            "Epoch: [134/150]: D_loss: 0.000, G_loss: 51.523\n",
            "Epoch: [135/150]: D_loss: 0.000, G_loss: 51.537\n",
            "Epoch: [136/150]: D_loss: 0.000, G_loss: 51.525\n",
            "Epoch: [137/150]: D_loss: 0.000, G_loss: 51.519\n",
            "Epoch: [138/150]: D_loss: 0.000, G_loss: 51.518\n",
            "Epoch: [139/150]: D_loss: 0.000, G_loss: 51.510\n",
            "Epoch: [140/150]: D_loss: 0.000, G_loss: 51.522\n",
            "Epoch: [141/150]: D_loss: 0.000, G_loss: 51.519\n",
            "Epoch: [142/150]: D_loss: 0.000, G_loss: 51.511\n",
            "Epoch: [143/150]: D_loss: 0.000, G_loss: 51.510\n",
            "Epoch: [144/150]: D_loss: 0.000, G_loss: 51.512\n",
            "Epoch: [145/150]: D_loss: 0.000, G_loss: 51.497\n",
            "Epoch: [146/150]: D_loss: 0.000, G_loss: 51.504\n",
            "Epoch: [147/150]: D_loss: 0.000, G_loss: 51.496\n",
            "Epoch: [148/150]: D_loss: 0.000, G_loss: 51.502\n",
            "Epoch: [149/150]: D_loss: 0.000, G_loss: 51.505\n",
            "Epoch: [150/150]: D_loss: 0.000, G_loss: 51.495\n"
          ]
        }
      ],
      "source": [
        "num_epochs = 150\n",
        "D_loss_plot, G_loss_plot = [], []\n",
        "\n",
        "for epoch in range(1, num_epochs+1):\n",
        "    D_loss_list, G_loss_list = [], []\n",
        "\n",
        "    # Adjust enumeration to unpack all items from the loader\n",
        "    for index, (real_images, _) in enumerate(train_loader):\n",
        "        D_optimizer.zero_grad()\n",
        "        real_images = real_images.to(device)\n",
        "\n",
        "        # Prepare targets for the discriminator\n",
        "        real_target = Variable(torch.ones(real_images.size(0), 1).to(device))  # Real images\n",
        "        fake_target = Variable(torch.zeros(real_images.size(0), 1).to(device))  # Fake images\n",
        "\n",
        "        # Discriminator loss on real images\n",
        "        D_real_loss = discriminator_loss(discriminator(real_images), real_target)\n",
        "        D_real_loss.backward()\n",
        "\n",
        "        # Generate fake images\n",
        "        noise_vector = torch.randn(real_images.size(0), latent_dim, 1, 1, device=device)\n",
        "        generated_image = generator(noise_vector)\n",
        "\n",
        "        # Discriminator loss on fake images\n",
        "        output = discriminator(generated_image.detach())\n",
        "        D_fake_loss = discriminator_loss(output, fake_target)\n",
        "        D_fake_loss.backward()\n",
        "\n",
        "        D_total_loss = D_real_loss + D_fake_loss\n",
        "        D_loss_list.append(D_total_loss.item())\n",
        "\n",
        "        D_optimizer.step()\n",
        "\n",
        "        # Generator training\n",
        "        G_optimizer.zero_grad()\n",
        "        G_loss = generator_loss(discriminator(generated_image), real_target)\n",
        "        G_loss.backward()\n",
        "        G_optimizer.step()\n",
        "        G_loss_list.append(G_loss.item())\n",
        "\n",
        "    # Logging\n",
        "    print(f'Epoch: [{epoch}/{num_epochs}]: D_loss: {np.mean(D_loss_list):.3f}, G_loss: {np.mean(G_loss_list):.3f}')\n",
        "    D_loss_plot.append(np.mean(D_loss_list))\n",
        "    G_loss_plot.append(np.mean(G_loss_list))\n",
        "\n",
        "    # Saving generated images and model at the last epoch\n",
        "    if epoch == 150:\n",
        "        for i in range(generated_image.shape[0]):\n",
        "            save_image(generated_image[i], f'/content/EuroSAT_MS/Forest/generated/{i}.png', normalize=True)\n",
        "        torch.save(generator.state_dict(), f'/content/EuroSAT_MS/Forest/generator_epoch_{epoch}.pth')\n",
        "        torch.save(discriminator.state_dict(), f'/content/EuroSAT_MS/Forest/discriminator_epoch_{epoch}.pth')"
      ]
    }
  ],
  "metadata": {
    "accelerator": "GPU",
    "colab": {
      "gpuType": "A100",
      "machine_shape": "hm",
      "provenance": []
    },
    "kernelspec": {
      "display_name": "Python 3",
      "name": "python3"
    },
    "language_info": {
      "codemirror_mode": {
        "name": "ipython",
        "version": 3
      },
      "file_extension": ".py",
      "mimetype": "text/x-python",
      "name": "python",
      "nbconvert_exporter": "python",
      "pygments_lexer": "ipython3",
      "version": "3.8.12"
    }
  },
  "nbformat": 4,
  "nbformat_minor": 5
}